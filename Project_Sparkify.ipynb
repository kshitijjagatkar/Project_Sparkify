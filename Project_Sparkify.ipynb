{
 "cells": [
  {
   "cell_type": "markdown",
   "metadata": {},
   "source": [
    "## Project Overview"
   ]
  },
  {
   "cell_type": "markdown",
   "metadata": {},
   "source": [
    "### Business Understanding"
   ]
  },
  {
   "cell_type": "markdown",
   "metadata": {},
   "source": [
    "This project is about sparkify music streaming service which is a hypothetical concept of music streaming platform, user's can listen music on their devices, it is similar kind of service like spotify, pandora etc. we will be analyzing it's data which is pretty interesting. The data is about user's interaction with their service, like user's data contains their gender, location, which songs they listen to, which are the pages they visit, did they upgrade or downgrade & so on, again music data like songs we don't have much data related to songs, again we have log informatin of the user like, when did a user registered with the serive, sessions, is the errors they encounter then what are those errors, timestamp of each action, when did a perticular song was played and all, like this we have a lot explore from this data in this project\n",
    "\n",
    "Our main goal of the project is to find the user's who left the service or the user who is going to churn. For that we have all the information almost or we we don't we have to find that in this project pretty much exciting han? So, without the further go let's dive into it & start working on the data. To make our path easy we have set small milestones as follows which helps us understand the high level of the process.\n",
    "\n",
    "\n",
    "* Business Understanding \n",
    "* Data Understanding\n",
    "* Data Preprocessing\n",
    "* Feature Engineering\n",
    "* Data preparation for Modeling\n",
    "* Modeling\n",
    "* Evaluating Model\n",
    "* Displaying Result\n",
    "* Justification & Conclusion"
   ]
  },
  {
   "cell_type": "code",
   "execution_count": null,
   "metadata": {
    "id": "BFfu74EmbZnH"
   },
   "outputs": [],
   "source": [
    "#!apt-get install openjdk-8-jdk-headless -qq > /dev/null\n",
    "#!wget -q https://downloads.apache.org/spark/spark-3.1.2/spark-3.1.2-bin-hadoop3.2.tgz\n",
    "#!tar xf spark-3.1.2-bin-hadoop3.2.tgz\n",
    "#!pip install -q findspark"
   ]
  },
  {
   "cell_type": "code",
   "execution_count": null,
   "metadata": {
    "id": "uPxxkddAbu4M"
   },
   "outputs": [],
   "source": [
    "#import os\n",
    "#os.environ[\"JAVA_HOME\"] = \"/usr/lib/jvm/java-8-openjdk-amd64\"\n",
    "#os.environ[\"SPARK_HOME\"] = \"/content/spark-3.1.2-bin-hadoop3.2\""
   ]
  },
  {
   "cell_type": "code",
   "execution_count": null,
   "metadata": {
    "id": "zRZwrCwubtJV"
   },
   "outputs": [],
   "source": [
    "import findspark\n",
    "findspark.init()\n",
    "#from pyspark.sql import SparkSession\n",
    "#spark = SparkSession.builder.master(\"local[*]\").getOrCreate()"
   ]
  },
  {
   "cell_type": "code",
   "execution_count": null,
   "metadata": {
    "colab": {
     "base_uri": "https://localhost:8080/"
    },
    "id": "qcRzu89MnZiR",
    "outputId": "aca3b88b-d796-41cb-ad3b-980a9496500b"
   },
   "outputs": [
    {
     "name": "stdout",
     "output_type": "stream",
     "text": [
      "Drive already mounted at /content/drive; to attempt to forcibly remount, call drive.mount(\"/content/drive\", force_remount=True).\n"
     ]
    }
   ],
   "source": [
    "#from google.colab import drive\n",
    "#drive.mount('/content/drive')"
   ]
  },
  {
   "cell_type": "code",
   "execution_count": null,
   "metadata": {
    "id": "ZcJkXf1BR6-H"
   },
   "outputs": [],
   "source": [
    "from pyspark.sql import SparkSession\n",
    "\n",
    "from pyspark.sql.window import Window\n",
    "from pyspark.sql.functions import asc,desc,udf, concat, count, lit, avg, lag, first, last, when\n",
    "from pyspark.sql.functions import min as Fmin, max as Fmax, sum as Fsum, round as Fround\n",
    "from pyspark.sql.types import IntegerType, DateType, TimestampType, StringType,ArrayType, StructField, StructType\n",
    "\n",
    "from pyspark.ml.feature import StandardScaler, VectorAssembler\n",
    "from pyspark.ml.evaluation import MulticlassClassificationEvaluator, RegressionEvaluator, BinaryClassificationEvaluator\n",
    "from pyspark.ml.classification import GBTClassifier, RandomForestClassifier, LinearSVC, LogisticRegression\n",
    "from pyspark.ml.tuning import CrossValidator, ParamGridBuilder\n",
    "from pyspark.ml import Pipeline\n",
    "\n",
    "\n",
    "import datetime\n",
    "import time\n",
    "import numpy as np\n",
    "import pandas as pd\n",
    "import seaborn as sns\n",
    "%matplotlib inline\n",
    "import matplotlib.pyplot as plt"
   ]
  },
  {
   "cell_type": "code",
   "execution_count": null,
   "metadata": {
    "colab": {
     "base_uri": "https://localhost:8080/"
    },
    "id": "nLqV6GCuL00t",
    "outputId": "e9f409b3-af7f-4059-f22f-49d1e64a3f82"
   },
   "outputs": [
    {
     "name": "stderr",
     "output_type": "stream",
     "text": [
      "/usr/local/lib/python3.7/dist-packages/ipykernel_launcher.py:3: FutureWarning: Passing a negative integer is deprecated in version 1.0 and will not be supported in future version. Instead, use None to not limit the column width.\n",
      "  This is separate from the ipykernel package so we can avoid doing imports until\n"
     ]
    }
   ],
   "source": [
    "pd.set_option('display.max_columns', None)  \n",
    "pd.set_option('display.expand_frame_repr', False)\n",
    "pd.set_option('max_colwidth', -1)"
   ]
  },
  {
   "cell_type": "markdown",
   "metadata": {
    "id": "2VC1ZX-9SIki"
   },
   "source": [
    "## Data Understanding"
   ]
  },
  {
   "cell_type": "code",
   "execution_count": null,
   "metadata": {
    "id": "XVE5krjDL00w"
   },
   "outputs": [],
   "source": [
    "# spark = SparkSession \\\n",
    "#     .builder \\\n",
    "#     .appName(\"my_Wrangling_Data\") \\\n",
    "#     .getOrCreate()"
   ]
  },
  {
   "cell_type": "code",
   "execution_count": null,
   "metadata": {
    "id": "iN3JlWrIL00y"
   },
   "outputs": [],
   "source": [
    "path = \"file:///E:\\Projects\\Spark\\DATA\\mini_sparkify_event_data.json\"  # Path where data resides\n",
    "#path = '/content/drive/MyDrive/mini_sparkify_event_data.json'\n",
    "df = spark.read.json(path)  # reading the data"
   ]
  },
  {
   "cell_type": "code",
   "execution_count": null,
   "metadata": {
    "colab": {
     "base_uri": "https://localhost:8080/"
    },
    "id": "V5GWtBi8L000",
    "outputId": "4cd20642-9471-4eb4-c296-c87ccd0bfa73"
   },
   "outputs": [
    {
     "name": "stdout",
     "output_type": "stream",
     "text": [
      "+----------------+---------+---------+------+-------------+--------+---------+-----+--------------------+------+--------+-------------+---------+--------------------+------+-------------+--------------------+------+\n",
      "|          artist|     auth|firstName|gender|itemInSession|lastName|   length|level|            location|method|    page| registration|sessionId|                song|status|           ts|           userAgent|userId|\n",
      "+----------------+---------+---------+------+-------------+--------+---------+-----+--------------------+------+--------+-------------+---------+--------------------+------+-------------+--------------------+------+\n",
      "|  Martha Tilston|Logged In|    Colin|     M|           50| Freeman|277.89016| paid|     Bakersfield, CA|   PUT|NextSong|1538173362000|       29|           Rockpools|   200|1538352117000|Mozilla/5.0 (Wind...|    30|\n",
      "|Five Iron Frenzy|Logged In|    Micah|     M|           79|    Long|236.09424| free|Boston-Cambridge-...|   PUT|NextSong|1538331630000|        8|              Canada|   200|1538352180000|\"Mozilla/5.0 (Win...|     9|\n",
      "|    Adam Lambert|Logged In|    Colin|     M|           51| Freeman| 282.8273| paid|     Bakersfield, CA|   PUT|NextSong|1538173362000|       29|   Time For Miracles|   200|1538352394000|Mozilla/5.0 (Wind...|    30|\n",
      "|          Enigma|Logged In|    Micah|     M|           80|    Long|262.71302| free|Boston-Cambridge-...|   PUT|NextSong|1538331630000|        8|Knocking On Forbi...|   200|1538352416000|\"Mozilla/5.0 (Win...|     9|\n",
      "|       Daft Punk|Logged In|    Colin|     M|           52| Freeman|223.60771| paid|     Bakersfield, CA|   PUT|NextSong|1538173362000|       29|Harder Better Fas...|   200|1538352676000|Mozilla/5.0 (Wind...|    30|\n",
      "+----------------+---------+---------+------+-------------+--------+---------+-----+--------------------+------+--------+-------------+---------+--------------------+------+-------------+--------------------+------+\n",
      "only showing top 5 rows\n",
      "\n"
     ]
    }
   ],
   "source": [
    "df.show(5) # top 5 rows"
   ]
  },
  {
   "cell_type": "code",
   "execution_count": null,
   "metadata": {
    "colab": {
     "base_uri": "https://localhost:8080/",
     "height": 598
    },
    "id": "7-5axlCCL001",
    "outputId": "0e759b76-7811-42bf-8f46-1476ca44224c"
   },
   "outputs": [
    {
     "data": {
      "text/html": [
       "<div>\n",
       "<style scoped>\n",
       "    .dataframe tbody tr th:only-of-type {\n",
       "        vertical-align: middle;\n",
       "    }\n",
       "\n",
       "    .dataframe tbody tr th {\n",
       "        vertical-align: top;\n",
       "    }\n",
       "\n",
       "    .dataframe thead th {\n",
       "        text-align: right;\n",
       "    }\n",
       "</style>\n",
       "<table border=\"1\" class=\"dataframe\">\n",
       "  <thead>\n",
       "    <tr style=\"text-align: right;\">\n",
       "      <th></th>\n",
       "      <th>artist</th>\n",
       "      <th>auth</th>\n",
       "      <th>firstName</th>\n",
       "      <th>gender</th>\n",
       "      <th>itemInSession</th>\n",
       "      <th>lastName</th>\n",
       "      <th>length</th>\n",
       "      <th>level</th>\n",
       "      <th>location</th>\n",
       "      <th>method</th>\n",
       "      <th>page</th>\n",
       "      <th>registration</th>\n",
       "      <th>sessionId</th>\n",
       "      <th>song</th>\n",
       "      <th>status</th>\n",
       "      <th>ts</th>\n",
       "      <th>userAgent</th>\n",
       "      <th>userId</th>\n",
       "    </tr>\n",
       "  </thead>\n",
       "  <tbody>\n",
       "    <tr>\n",
       "      <th>0</th>\n",
       "      <td>Martha Tilston</td>\n",
       "      <td>Logged In</td>\n",
       "      <td>Colin</td>\n",
       "      <td>M</td>\n",
       "      <td>50</td>\n",
       "      <td>Freeman</td>\n",
       "      <td>277.89016</td>\n",
       "      <td>paid</td>\n",
       "      <td>Bakersfield, CA</td>\n",
       "      <td>PUT</td>\n",
       "      <td>NextSong</td>\n",
       "      <td>1.538173e+12</td>\n",
       "      <td>29</td>\n",
       "      <td>Rockpools</td>\n",
       "      <td>200</td>\n",
       "      <td>1538352117000</td>\n",
       "      <td>Mozilla/5.0 (Windows NT 6.1; WOW64; rv:31.0) Gecko/20100101 Firefox/31.0</td>\n",
       "      <td>30</td>\n",
       "    </tr>\n",
       "    <tr>\n",
       "      <th>1</th>\n",
       "      <td>Five Iron Frenzy</td>\n",
       "      <td>Logged In</td>\n",
       "      <td>Micah</td>\n",
       "      <td>M</td>\n",
       "      <td>79</td>\n",
       "      <td>Long</td>\n",
       "      <td>236.09424</td>\n",
       "      <td>free</td>\n",
       "      <td>Boston-Cambridge-Newton, MA-NH</td>\n",
       "      <td>PUT</td>\n",
       "      <td>NextSong</td>\n",
       "      <td>1.538332e+12</td>\n",
       "      <td>8</td>\n",
       "      <td>Canada</td>\n",
       "      <td>200</td>\n",
       "      <td>1538352180000</td>\n",
       "      <td>\"Mozilla/5.0 (Windows NT 6.1; WOW64) AppleWebKit/537.36 (KHTML, like Gecko) Chrome/37.0.2062.103 Safari/537.36\"</td>\n",
       "      <td>9</td>\n",
       "    </tr>\n",
       "    <tr>\n",
       "      <th>2</th>\n",
       "      <td>Adam Lambert</td>\n",
       "      <td>Logged In</td>\n",
       "      <td>Colin</td>\n",
       "      <td>M</td>\n",
       "      <td>51</td>\n",
       "      <td>Freeman</td>\n",
       "      <td>282.82730</td>\n",
       "      <td>paid</td>\n",
       "      <td>Bakersfield, CA</td>\n",
       "      <td>PUT</td>\n",
       "      <td>NextSong</td>\n",
       "      <td>1.538173e+12</td>\n",
       "      <td>29</td>\n",
       "      <td>Time For Miracles</td>\n",
       "      <td>200</td>\n",
       "      <td>1538352394000</td>\n",
       "      <td>Mozilla/5.0 (Windows NT 6.1; WOW64; rv:31.0) Gecko/20100101 Firefox/31.0</td>\n",
       "      <td>30</td>\n",
       "    </tr>\n",
       "    <tr>\n",
       "      <th>3</th>\n",
       "      <td>Enigma</td>\n",
       "      <td>Logged In</td>\n",
       "      <td>Micah</td>\n",
       "      <td>M</td>\n",
       "      <td>80</td>\n",
       "      <td>Long</td>\n",
       "      <td>262.71302</td>\n",
       "      <td>free</td>\n",
       "      <td>Boston-Cambridge-Newton, MA-NH</td>\n",
       "      <td>PUT</td>\n",
       "      <td>NextSong</td>\n",
       "      <td>1.538332e+12</td>\n",
       "      <td>8</td>\n",
       "      <td>Knocking On Forbidden Doors</td>\n",
       "      <td>200</td>\n",
       "      <td>1538352416000</td>\n",
       "      <td>\"Mozilla/5.0 (Windows NT 6.1; WOW64) AppleWebKit/537.36 (KHTML, like Gecko) Chrome/37.0.2062.103 Safari/537.36\"</td>\n",
       "      <td>9</td>\n",
       "    </tr>\n",
       "    <tr>\n",
       "      <th>4</th>\n",
       "      <td>Daft Punk</td>\n",
       "      <td>Logged In</td>\n",
       "      <td>Colin</td>\n",
       "      <td>M</td>\n",
       "      <td>52</td>\n",
       "      <td>Freeman</td>\n",
       "      <td>223.60771</td>\n",
       "      <td>paid</td>\n",
       "      <td>Bakersfield, CA</td>\n",
       "      <td>PUT</td>\n",
       "      <td>NextSong</td>\n",
       "      <td>1.538173e+12</td>\n",
       "      <td>29</td>\n",
       "      <td>Harder Better Faster Stronger</td>\n",
       "      <td>200</td>\n",
       "      <td>1538352676000</td>\n",
       "      <td>Mozilla/5.0 (Windows NT 6.1; WOW64; rv:31.0) Gecko/20100101 Firefox/31.0</td>\n",
       "      <td>30</td>\n",
       "    </tr>\n",
       "  </tbody>\n",
       "</table>\n",
       "</div>"
      ],
      "text/plain": [
       "             artist       auth firstName gender  itemInSession lastName     length level                        location method      page  registration  sessionId                           song  status             ts                                                                                                        userAgent userId\n",
       "0  Martha Tilston    Logged In  Colin     M      50             Freeman  277.89016  paid  Bakersfield, CA                 PUT    NextSong  1.538173e+12  29         Rockpools                      200     1538352117000  Mozilla/5.0 (Windows NT 6.1; WOW64; rv:31.0) Gecko/20100101 Firefox/31.0                                         30   \n",
       "1  Five Iron Frenzy  Logged In  Micah     M      79             Long     236.09424  free  Boston-Cambridge-Newton, MA-NH  PUT    NextSong  1.538332e+12  8          Canada                         200     1538352180000  \"Mozilla/5.0 (Windows NT 6.1; WOW64) AppleWebKit/537.36 (KHTML, like Gecko) Chrome/37.0.2062.103 Safari/537.36\"  9    \n",
       "2  Adam Lambert      Logged In  Colin     M      51             Freeman  282.82730  paid  Bakersfield, CA                 PUT    NextSong  1.538173e+12  29         Time For Miracles              200     1538352394000  Mozilla/5.0 (Windows NT 6.1; WOW64; rv:31.0) Gecko/20100101 Firefox/31.0                                         30   \n",
       "3  Enigma            Logged In  Micah     M      80             Long     262.71302  free  Boston-Cambridge-Newton, MA-NH  PUT    NextSong  1.538332e+12  8          Knocking On Forbidden Doors    200     1538352416000  \"Mozilla/5.0 (Windows NT 6.1; WOW64) AppleWebKit/537.36 (KHTML, like Gecko) Chrome/37.0.2062.103 Safari/537.36\"  9    \n",
       "4  Daft Punk         Logged In  Colin     M      52             Freeman  223.60771  paid  Bakersfield, CA                 PUT    NextSong  1.538173e+12  29         Harder Better Faster Stronger  200     1538352676000  Mozilla/5.0 (Windows NT 6.1; WOW64; rv:31.0) Gecko/20100101 Firefox/31.0                                         30   "
      ]
     },
     "execution_count": 264,
     "metadata": {
      "tags": []
     },
     "output_type": "execute_result"
    }
   ],
   "source": [
    "pd_df = pd.DataFrame(df.collect(),columns=df.columns) # let's have a look from pandas\n",
    "pd_df.head()"
   ]
  },
  {
   "cell_type": "code",
   "execution_count": null,
   "metadata": {
    "colab": {
     "base_uri": "https://localhost:8080/"
    },
    "id": "lyrUlC_gL002",
    "outputId": "14543ec9-19f2-4404-c8df-ea0e877e258b"
   },
   "outputs": [
    {
     "name": "stdout",
     "output_type": "stream",
     "text": [
      "root\n",
      " |-- artist: string (nullable = true)\n",
      " |-- auth: string (nullable = true)\n",
      " |-- firstName: string (nullable = true)\n",
      " |-- gender: string (nullable = true)\n",
      " |-- itemInSession: long (nullable = true)\n",
      " |-- lastName: string (nullable = true)\n",
      " |-- length: double (nullable = true)\n",
      " |-- level: string (nullable = true)\n",
      " |-- location: string (nullable = true)\n",
      " |-- method: string (nullable = true)\n",
      " |-- page: string (nullable = true)\n",
      " |-- registration: long (nullable = true)\n",
      " |-- sessionId: long (nullable = true)\n",
      " |-- song: string (nullable = true)\n",
      " |-- status: long (nullable = true)\n",
      " |-- ts: long (nullable = true)\n",
      " |-- userAgent: string (nullable = true)\n",
      " |-- userId: string (nullable = true)\n",
      "\n"
     ]
    }
   ],
   "source": [
    "df.printSchema() # Schema of the dataset"
   ]
  },
  {
   "cell_type": "code",
   "execution_count": null,
   "metadata": {
    "colab": {
     "base_uri": "https://localhost:8080/"
    },
    "id": "7kTlkxJjL004",
    "outputId": "b581eff3-0091-4ca2-eff2-8620b074ba73"
   },
   "outputs": [
    {
     "data": {
      "text/plain": [
       "286500"
      ]
     },
     "execution_count": 266,
     "metadata": {
      "tags": []
     },
     "output_type": "execute_result"
    }
   ],
   "source": [
    "df.count() # Number of rows"
   ]
  },
  {
   "cell_type": "code",
   "execution_count": null,
   "metadata": {
    "colab": {
     "base_uri": "https://localhost:8080/"
    },
    "id": "uUq0smxoL004",
    "outputId": "970ca4e4-72f4-4282-c731-bc1fd7a713d6"
   },
   "outputs": [
    {
     "data": {
      "text/plain": [
       "18"
      ]
     },
     "execution_count": 267,
     "metadata": {
      "tags": []
     },
     "output_type": "execute_result"
    }
   ],
   "source": [
    "len(df.columns) # Number of Columns"
   ]
  },
  {
   "cell_type": "code",
   "execution_count": null,
   "metadata": {
    "colab": {
     "base_uri": "https://localhost:8080/"
    },
    "id": "Oul_EizoL005",
    "outputId": "61f5f7f4-aabf-4000-db2f-0ab3739a54af"
   },
   "outputs": [
    {
     "data": {
      "text/plain": [
       "DataFrame[summary: string, artist: string, auth: string, firstName: string, gender: string, itemInSession: string, lastName: string, length: string, level: string, location: string, method: string, page: string, registration: string, sessionId: string, song: string, status: string, ts: string, userAgent: string, userId: string]"
      ]
     },
     "execution_count": 268,
     "metadata": {
      "tags": []
     },
     "output_type": "execute_result"
    }
   ],
   "source": [
    "df.describe()"
   ]
  },
  {
   "cell_type": "code",
   "execution_count": null,
   "metadata": {
    "colab": {
     "base_uri": "https://localhost:8080/"
    },
    "id": "_GzjrXzbL005",
    "outputId": "97249862-3caa-4ba6-fb39-db3ab8d1985d"
   },
   "outputs": [
    {
     "name": "stdout",
     "output_type": "stream",
     "text": [
      "+-------+------------------+\n",
      "|summary|            userId|\n",
      "+-------+------------------+\n",
      "|  count|            286500|\n",
      "|   mean| 59682.02278593872|\n",
      "| stddev|109091.94999910527|\n",
      "|    min|                  |\n",
      "|    max|                99|\n",
      "+-------+------------------+\n",
      "\n"
     ]
    }
   ],
   "source": [
    "df.describe(\"userId\").show()"
   ]
  },
  {
   "cell_type": "markdown",
   "metadata": {
    "id": "xKueuXwDL006"
   },
   "source": [
    "#### Number of Empty Values\n",
    "\n",
    "These are empty userId values and they are many."
   ]
  },
  {
   "cell_type": "code",
   "execution_count": null,
   "metadata": {
    "colab": {
     "base_uri": "https://localhost:8080/"
    },
    "id": "sYtYBpmoL006",
    "outputId": "adbd6719-aa52-472e-a63e-e7935639dd99"
   },
   "outputs": [
    {
     "data": {
      "text/plain": [
       "8346"
      ]
     },
     "execution_count": 270,
     "metadata": {
      "tags": []
     },
     "output_type": "execute_result"
    }
   ],
   "source": [
    "df.where(df[\"userId\"] == \"\").select(\"userId\").count()"
   ]
  },
  {
   "cell_type": "markdown",
   "metadata": {
    "id": "G_dtfDFOL007"
   },
   "source": [
    "#### Number of Missing values"
   ]
  },
  {
   "cell_type": "code",
   "execution_count": null,
   "metadata": {
    "colab": {
     "base_uri": "https://localhost:8080/"
    },
    "id": "TN5e7teAL008",
    "outputId": "c23897a8-08bb-4359-f406-19d86bb1db3d"
   },
   "outputs": [
    {
     "data": {
      "text/plain": [
       "artist           58392\n",
       "auth             0    \n",
       "firstName        8346 \n",
       "gender           8346 \n",
       "itemInSession    0    \n",
       "lastName         8346 \n",
       "length           58392\n",
       "level            0    \n",
       "location         8346 \n",
       "method           0    \n",
       "page             0    \n",
       "registration     8346 \n",
       "sessionId        0    \n",
       "song             58392\n",
       "status           0    \n",
       "ts               0    \n",
       "userAgent        8346 \n",
       "userId           0    \n",
       "dtype: int64"
      ]
     },
     "execution_count": 271,
     "metadata": {
      "tags": []
     },
     "output_type": "execute_result"
    }
   ],
   "source": [
    "pd_df.isna().sum()"
   ]
  },
  {
   "cell_type": "markdown",
   "metadata": {
    "id": "Wb7nC_vKL008"
   },
   "source": [
    "#### Number of unique page request by the user present in the data"
   ]
  },
  {
   "cell_type": "code",
   "execution_count": null,
   "metadata": {
    "colab": {
     "base_uri": "https://localhost:8080/"
    },
    "id": "CJ8-egZ1L009",
    "outputId": "1e0e5adc-8e1f-4e8c-d663-1038eacb6dfb"
   },
   "outputs": [
    {
     "name": "stdout",
     "output_type": "stream",
     "text": [
      "+--------------------+\n",
      "|                page|\n",
      "+--------------------+\n",
      "|               About|\n",
      "|          Add Friend|\n",
      "|     Add to Playlist|\n",
      "|              Cancel|\n",
      "|Cancellation Conf...|\n",
      "|           Downgrade|\n",
      "|               Error|\n",
      "|                Help|\n",
      "|                Home|\n",
      "|               Login|\n",
      "|              Logout|\n",
      "|            NextSong|\n",
      "|            Register|\n",
      "|         Roll Advert|\n",
      "|       Save Settings|\n",
      "|            Settings|\n",
      "|    Submit Downgrade|\n",
      "| Submit Registration|\n",
      "|      Submit Upgrade|\n",
      "|         Thumbs Down|\n",
      "|           Thumbs Up|\n",
      "|             Upgrade|\n",
      "+--------------------+\n",
      "\n"
     ]
    }
   ],
   "source": [
    "df.select(\"page\").dropDuplicates().sort(\"page\").show(23)"
   ]
  },
  {
   "cell_type": "markdown",
   "metadata": {
    "id": "zAhiy1uKL009"
   },
   "source": [
    "#### Timestamp & dates"
   ]
  },
  {
   "cell_type": "code",
   "execution_count": null,
   "metadata": {
    "colab": {
     "base_uri": "https://localhost:8080/"
    },
    "id": "pttl3VYgL00-",
    "outputId": "df932ea2-f30e-4131-9f6f-f648333e078a"
   },
   "outputs": [
    {
     "name": "stdout",
     "output_type": "stream",
     "text": [
      "+-------------+\n",
      "| registration|\n",
      "+-------------+\n",
      "|1538173362000|\n",
      "|1538331630000|\n",
      "|1538173362000|\n",
      "|1538331630000|\n",
      "|1538173362000|\n",
      "+-------------+\n",
      "only showing top 5 rows\n",
      "\n"
     ]
    }
   ],
   "source": [
    "df.select(\"registration\").show(5) #Timestamp"
   ]
  },
  {
   "cell_type": "code",
   "execution_count": null,
   "metadata": {
    "colab": {
     "base_uri": "https://localhost:8080/"
    },
    "id": "InSaXPIkL00-",
    "outputId": "9b4093f1-c0c1-4a7b-b8b8-a9b1c2130ee8"
   },
   "outputs": [
    {
     "name": "stdout",
     "output_type": "stream",
     "text": [
      "+-------------------+\n",
      "|            date_ts|\n",
      "+-------------------+\n",
      "|2018-10-01 00:01:57|\n",
      "|2018-10-01 00:03:00|\n",
      "|2018-10-01 00:06:34|\n",
      "|2018-10-01 00:06:56|\n",
      "|2018-10-01 00:11:16|\n",
      "+-------------------+\n",
      "only showing top 5 rows\n",
      "\n"
     ]
    }
   ],
   "source": [
    "# converting the timestamps into datetime format and adding them to the dataframe\n",
    "df = df.withColumn('registrationDate', (df['registration'] / 1000).cast(TimestampType()))\n",
    "df = df.withColumn('date_ts', (df['ts'] / 1000).cast(TimestampType()))\n",
    "df.select(\"date_ts\").show(5)"
   ]
  },
  {
   "cell_type": "markdown",
   "metadata": {
    "id": "BUkkI0ZxL00_"
   },
   "source": [
    "Now we have clear formatting for time. we can explore things like our dataset date ranges between and many more"
   ]
  },
  {
   "cell_type": "code",
   "execution_count": null,
   "metadata": {
    "colab": {
     "base_uri": "https://localhost:8080/"
    },
    "id": "B3VFj2JwL00_",
    "outputId": "0d2a16d3-18fc-467d-98f3-67db167749d3"
   },
   "outputs": [
    {
     "name": "stdout",
     "output_type": "stream",
     "text": [
      "+-------------------+\n",
      "|            date_ts|\n",
      "+-------------------+\n",
      "|2018-10-01 00:01:57|\n",
      "+-------------------+\n",
      "only showing top 1 row\n",
      "\n",
      "First Date in the dataset:\n",
      "+-------------------+\n",
      "|            date_ts|\n",
      "+-------------------+\n",
      "|2018-12-03 01:11:16|\n",
      "+-------------------+\n",
      "only showing top 1 row\n",
      "\n",
      "Last Date in the dataset:\n"
     ]
    }
   ],
   "source": [
    "print(\"First Date in the dataset:\".format(df.select(\"date_ts\").sort(\"date_ts\").show(1)))  # Data From (date)\n",
    "print(\"Last Date in the dataset:\".format(df.select(\"date_ts\").sort(\"date_ts\",ascending= False).show(1)))  # Data to (date)"
   ]
  },
  {
   "cell_type": "markdown",
   "metadata": {},
   "source": [
    "We have two months of data from 1st october to 3rd december. it looks like 2months but we have a lot to explore"
   ]
  },
  {
   "cell_type": "markdown",
   "metadata": {
    "id": "xEgBWGOiL01A"
   },
   "source": [
    "##### As we can see that our data set has 18 columns which represent specific information related to some entity, Now we can grab those entities and segregate our data into high level information. Like we can see in that there is information related to user, some columns related to songs & lastly other columns shows log information.\n",
    "\n",
    "##### So, we can divide them as 1.User information 2.Songs information 3.User-log information"
   ]
  },
  {
   "cell_type": "markdown",
   "metadata": {
    "id": "HrivE-nFL01A"
   },
   "source": [
    "### 1.User Information"
   ]
  },
  {
   "cell_type": "code",
   "execution_count": null,
   "metadata": {
    "colab": {
     "base_uri": "https://localhost:8080/"
    },
    "id": "8C6r9-qHL01A",
    "outputId": "5d7917d8-7bb7-4423-af70-a22cba0f9753"
   },
   "outputs": [
    {
     "name": "stdout",
     "output_type": "stream",
     "text": [
      "+------+---------+--------+------+--------------------+---------------+--------------------+-------------+-----+\n",
      "|userId|firstName|lastName|gender|            location|           page|           userAgent| registration|level|\n",
      "+------+---------+--------+------+--------------------+---------------+--------------------+-------------+-----+\n",
      "|    30|    Colin| Freeman|     M|     Bakersfield, CA|       NextSong|Mozilla/5.0 (Wind...|1538173362000| paid|\n",
      "|     9|    Micah|    Long|     M|Boston-Cambridge-...|       NextSong|\"Mozilla/5.0 (Win...|1538331630000| free|\n",
      "|    30|    Colin| Freeman|     M|     Bakersfield, CA|       NextSong|Mozilla/5.0 (Wind...|1538173362000| paid|\n",
      "|     9|    Micah|    Long|     M|Boston-Cambridge-...|       NextSong|\"Mozilla/5.0 (Win...|1538331630000| free|\n",
      "|    30|    Colin| Freeman|     M|     Bakersfield, CA|       NextSong|Mozilla/5.0 (Wind...|1538173362000| paid|\n",
      "|     9|    Micah|    Long|     M|Boston-Cambridge-...|       NextSong|\"Mozilla/5.0 (Win...|1538331630000| free|\n",
      "|     9|    Micah|    Long|     M|Boston-Cambridge-...|       NextSong|\"Mozilla/5.0 (Win...|1538331630000| free|\n",
      "|    30|    Colin| Freeman|     M|     Bakersfield, CA|       NextSong|Mozilla/5.0 (Wind...|1538173362000| paid|\n",
      "|    30|    Colin| Freeman|     M|     Bakersfield, CA|Add to Playlist|Mozilla/5.0 (Wind...|1538173362000| paid|\n",
      "|    30|    Colin| Freeman|     M|     Bakersfield, CA|       NextSong|Mozilla/5.0 (Wind...|1538173362000| paid|\n",
      "+------+---------+--------+------+--------------------+---------------+--------------------+-------------+-----+\n",
      "only showing top 10 rows\n",
      "\n"
     ]
    }
   ],
   "source": [
    "user_info = df.select([\"userId\",\"firstName\",\"lastName\",\"gender\",\"location\",\"page\",\"userAgent\",\"registration\",\"level\"])\n",
    "user_info.show(10)"
   ]
  },
  {
   "cell_type": "code",
   "execution_count": null,
   "metadata": {
    "id": "npVEtGr5L01B"
   },
   "outputs": [],
   "source": [
    "user_info = user_info.dropna(how=\"any\")  # let's drop NA values for now \n",
    "user_info = user_info[user_info.userId != \"\"] # this will make sure we don't have empty values"
   ]
  },
  {
   "cell_type": "markdown",
   "metadata": {
    "id": "SxMD07eDL01B"
   },
   "source": [
    "#### Number of unique users in the data"
   ]
  },
  {
   "cell_type": "code",
   "execution_count": null,
   "metadata": {
    "colab": {
     "base_uri": "https://localhost:8080/"
    },
    "id": "bbFaZCwBL01B",
    "outputId": "5f12d4f7-7a27-42a3-a8f1-ad102227712d"
   },
   "outputs": [
    {
     "data": {
      "text/plain": [
       "225"
      ]
     },
     "execution_count": 278,
     "metadata": {
      "tags": []
     },
     "output_type": "execute_result"
    }
   ],
   "source": [
    "user_info.select(\"userId\").distinct().count()"
   ]
  },
  {
   "cell_type": "markdown",
   "metadata": {
    "id": "j6Bg1A5NL01C"
   },
   "source": [
    "#### Number of Paid & free Users"
   ]
  },
  {
   "cell_type": "code",
   "execution_count": null,
   "metadata": {
    "colab": {
     "base_uri": "https://localhost:8080/"
    },
    "id": "EOdSOdILL01C",
    "outputId": "31a2a8b3-0c56-497f-f172-c4a95b043a38"
   },
   "outputs": [
    {
     "name": "stdout",
     "output_type": "stream",
     "text": [
      "+------+-----+\n",
      "|gender|count|\n",
      "+------+-----+\n",
      "|     F|  104|\n",
      "|     M|  121|\n",
      "+------+-----+\n",
      "\n"
     ]
    }
   ],
   "source": [
    "user_info.select(\"userId\",\"gender\").distinct().groupby(\"gender\").count().show()"
   ]
  },
  {
   "cell_type": "markdown",
   "metadata": {
    "id": "5HS_mxVUL01D"
   },
   "source": [
    "Remember we have seen some empty values in the userId column. We can check more information with this as well."
   ]
  },
  {
   "cell_type": "code",
   "execution_count": null,
   "metadata": {
    "colab": {
     "base_uri": "https://localhost:8080/"
    },
    "id": "C_447ROPL01D",
    "outputId": "77bf2b29-5b84-46cd-8f4d-019e61589b7d"
   },
   "outputs": [
    {
     "name": "stdout",
     "output_type": "stream",
     "text": [
      "+------+---------+--------+------+--------+------------+---------+-----+-------------------+-----+----------+\n",
      "|userId|firstName|lastName|gender|location|registration|userAgent|level|            Date_ts| page|      auth|\n",
      "+------+---------+--------+------+--------+------------+---------+-----+-------------------+-----+----------+\n",
      "|      |     null|    null|  null|    null|        null|     null| free|2018-10-01 01:02:25| Home|Logged Out|\n",
      "|      |     null|    null|  null|    null|        null|     null| free|2018-10-01 01:03:27| Help|Logged Out|\n",
      "|      |     null|    null|  null|    null|        null|     null| free|2018-10-01 01:04:01| Home|Logged Out|\n",
      "|      |     null|    null|  null|    null|        null|     null| free|2018-10-01 01:04:02|Login|Logged Out|\n",
      "|      |     null|    null|  null|    null|        null|     null| free|2018-10-01 01:17:58| Home|Logged Out|\n",
      "|      |     null|    null|  null|    null|        null|     null| free|2018-10-01 01:17:59|Login|Logged Out|\n",
      "|      |     null|    null|  null|    null|        null|     null| free|2018-10-01 01:41:42|Login|Logged Out|\n",
      "|      |     null|    null|  null|    null|        null|     null| free|2018-10-01 02:15:17|Login|Logged Out|\n",
      "|      |     null|    null|  null|    null|        null|     null| free|2018-10-01 02:38:47| Home|Logged Out|\n",
      "|      |     null|    null|  null|    null|        null|     null| free|2018-10-01 02:38:48|Login|Logged Out|\n",
      "+------+---------+--------+------+--------+------------+---------+-----+-------------------+-----+----------+\n",
      "only showing top 10 rows\n",
      "\n"
     ]
    }
   ],
   "source": [
    "df.where(df.userId == \"\").select(['userId', 'firstName', 'lastName', 'gender', 'location', 'registration', 'userAgent', 'level', 'Date_ts', 'page', 'auth',]).show(10)"
   ]
  },
  {
   "cell_type": "markdown",
   "metadata": {
    "id": "pE8xWJx2L01D"
   },
   "source": [
    "Auth column represent if a user has logged out or logged in, from this table it cames to know that user who logged out has no information it is shown by empty values. further we can check auth column when there are empty values."
   ]
  },
  {
   "cell_type": "code",
   "execution_count": null,
   "metadata": {
    "colab": {
     "base_uri": "https://localhost:8080/"
    },
    "id": "B1SjlrvnL01E",
    "outputId": "ea0d3187-3f15-49c4-fcc5-1ec95f4f915f"
   },
   "outputs": [
    {
     "name": "stdout",
     "output_type": "stream",
     "text": [
      "+----------+-----+\n",
      "|      auth|count|\n",
      "+----------+-----+\n",
      "|Logged Out| 8249|\n",
      "|     Guest|   97|\n",
      "+----------+-----+\n",
      "\n"
     ]
    }
   ],
   "source": [
    "df.where(df[\"userId\"] == \"\").groupby(\"auth\").count().show()"
   ]
  },
  {
   "cell_type": "markdown",
   "metadata": {
    "id": "WShCDB-LL01E"
   },
   "source": [
    "There we go, when user logged out or as guest we don't have user information."
   ]
  },
  {
   "cell_type": "code",
   "execution_count": null,
   "metadata": {
    "colab": {
     "base_uri": "https://localhost:8080/",
     "height": 440
    },
    "id": "B5IJX_cwL01E",
    "outputId": "4e368018-eee4-4c8b-f9ea-097f1aa57099"
   },
   "outputs": [
    {
     "name": "stderr",
     "output_type": "stream",
     "text": [
      "/usr/local/lib/python3.7/dist-packages/seaborn/_decorators.py:43: FutureWarning: Pass the following variables as keyword args: x, y. From version 0.12, the only valid positional argument will be `data`, and passing other arguments without an explicit keyword will result in an error or misinterpretation.\n",
      "  FutureWarning\n"
     ]
    },
    {
     "data": {
      "image/png": "[encoded data removed]",
      "text/plain": [
       "<Figure size 1440x360 with 1 Axes>"
      ]
     },
     "metadata": {
      "tags": []
     },
     "output_type": "display_data"
    }
   ],
   "source": [
    "# let's find out on which page user spent most time\n",
    "\n",
    "pages = df.groupby('page').count().toPandas()\n",
    "fig, ax = plt.subplots(figsize=(20, 5))\n",
    "sns.barplot(pages['page'], pages['count'])\n",
    "ax.set_ylabel('Scores')\n",
    "ax.set_title('Page traffic')\n",
    "fig.autofmt_xdate();"
   ]
  },
  {
   "cell_type": "markdown",
   "metadata": {
    "id": "vFLD8B1BL01F"
   },
   "source": [
    "Looks like user spent most their time on nextsong page & yeah it's obivious followed by home & like"
   ]
  },
  {
   "cell_type": "markdown",
   "metadata": {
    "id": "vof3edRKL01F"
   },
   "source": [
    "#### Who cancels the service more often, paid users or free users?"
   ]
  },
  {
   "cell_type": "code",
   "execution_count": null,
   "metadata": {
    "colab": {
     "base_uri": "https://localhost:8080/",
     "height": 350
    },
    "id": "ROY4l-t8L01F",
    "outputId": "ea86923c-cb86-48f8-b7b3-c3b991abf42c"
   },
   "outputs": [
    {
     "data": {
      "image/png": "[encoded data removed]",
      "text/plain": [
       "<Figure size 360x360 with 1 Axes>"
      ]
     },
     "metadata": {
      "tags": []
     },
     "output_type": "display_data"
    }
   ],
   "source": [
    "# Plotting a bar plot to show differense between Paid & Free users\n",
    "fig, ax = plt.subplots(figsize=(5, 5))\n",
    "\n",
    "level_df = user_info.filter('page == \"Cancellation Confirmation\"').groupby('level').count().toPandas()\n",
    "plt.title('Paid vs.Free users')\n",
    "sns.barplot(data = level_df, x = 'level', y = 'count', color = sns.color_palette()[7])\n",
    "\n",
    "ax.set(xticklabels=['Free', 'Paid'])\n",
    "\n",
    "ax.set_ylabel('Count')\n",
    "ax.set_xlabel('User Level');"
   ]
  },
  {
   "cell_type": "markdown",
   "metadata": {
    "id": "uzXYXxA-L01H"
   },
   "source": [
    "### 2. Songs Information"
   ]
  },
  {
   "cell_type": "code",
   "execution_count": null,
   "metadata": {
    "colab": {
     "base_uri": "https://localhost:8080/"
    },
    "id": "i1cYXyCnL01I",
    "outputId": "798a4452-4838-4585-d8a1-858e5dd56f32"
   },
   "outputs": [
    {
     "name": "stdout",
     "output_type": "stream",
     "text": [
      "+--------------------+--------------------+---------+---------------+\n",
      "|              artist|                song|   length|           page|\n",
      "+--------------------+--------------------+---------+---------------+\n",
      "|      Martha Tilston|           Rockpools|277.89016|       NextSong|\n",
      "|    Five Iron Frenzy|              Canada|236.09424|       NextSong|\n",
      "|        Adam Lambert|   Time For Miracles| 282.8273|       NextSong|\n",
      "|              Enigma|Knocking On Forbi...|262.71302|       NextSong|\n",
      "|           Daft Punk|Harder Better Fas...|223.60771|       NextSong|\n",
      "|The All-American ...|      Don't Leave Me|208.29995|       NextSong|\n",
      "|The Velvet Underg...|         Run Run Run|260.46649|       NextSong|\n",
      "|        Starflyer 59|Passengers (Old A...|185.44281|       NextSong|\n",
      "|                null|                null|     null|Add to Playlist|\n",
      "|            Frumpies|          Fuck Kitty|134.47791|       NextSong|\n",
      "|        Britt Nicole|   Walk On The Water| 229.8771|       NextSong|\n",
      "|                null|                null|     null|    Roll Advert|\n",
      "|Edward Sharpe & T...|                Jade|223.58159|       NextSong|\n",
      "|               Tesla|      Gettin' Better|201.06404|       NextSong|\n",
      "|                null|                null|     null|      Thumbs Up|\n",
      "|         Stan Mosley|   So-Called Friends|246.69995|       NextSong|\n",
      "|Florence + The Ma...| You've Got The Love|168.64608|       NextSong|\n",
      "|   Tokyo Police Club|Citizens Of Tomorrow| 166.1122|       NextSong|\n",
      "|             Orishas|           Represent|222.22322|       NextSong|\n",
      "|             Ratatat|              Swisha|229.77261|       NextSong|\n",
      "+--------------------+--------------------+---------+---------------+\n",
      "only showing top 20 rows\n",
      "\n",
      "number of entries: 286500\n"
     ]
    }
   ],
   "source": [
    "song_info = df.select(['artist','song','length','page'])\n",
    "song_info = song_info.dropna(how='all')\n",
    "song_info.show()\n",
    "print(\"number of entries:\",song_info.count())"
   ]
  },
  {
   "cell_type": "code",
   "execution_count": null,
   "metadata": {
    "colab": {
     "base_uri": "https://localhost:8080/"
    },
    "id": "HQOKm-BkL01J",
    "outputId": "21e6bf2b-3fee-4f39-ea8b-506f7142986c"
   },
   "outputs": [
    {
     "name": "stdout",
     "output_type": "stream",
     "text": [
      "+--------------------+--------------------+---------------+-----+\n",
      "|              artist|                song|           page|count|\n",
      "+--------------------+--------------------+---------------+-----+\n",
      "|                null|                null|           Home|14457|\n",
      "|                null|                null|      Thumbs Up|12551|\n",
      "|                null|                null|Add to Playlist| 6526|\n",
      "|                null|                null|     Add Friend| 4277|\n",
      "|                null|                null|    Roll Advert| 3933|\n",
      "|                null|                null|          Login| 3241|\n",
      "|                null|                null|         Logout| 3226|\n",
      "|                null|                null|    Thumbs Down| 2546|\n",
      "|                null|                null|      Downgrade| 2055|\n",
      "|                null|                null|           Help| 1726|\n",
      "|                null|                null|       Settings| 1514|\n",
      "|       Dwight Yoakam|      You're The One|       NextSong| 1122|\n",
      "|            BjÃÂ¶rk|                Undo|       NextSong| 1026|\n",
      "|                null|                null|          About|  924|\n",
      "|       Kings Of Leon|             Revelry|       NextSong|  854|\n",
      "|            Harmonia|       Sehr kosmisch|       NextSong|  728|\n",
      "|Barry Tuckwell/Ac...|Horn Concerto No....|       NextSong|  641|\n",
      "|Florence + The Ma...|Dog Days Are Over...|       NextSong|  574|\n",
      "|                null|                null|        Upgrade|  499|\n",
      "|         OneRepublic|             Secrets|       NextSong|  463|\n",
      "+--------------------+--------------------+---------------+-----+\n",
      "only showing top 20 rows\n",
      "\n"
     ]
    }
   ],
   "source": [
    "song_info.groupby(\"artist\",\"song\",\"page\").count().sort(\"count\",ascending=False).show()"
   ]
  },
  {
   "cell_type": "markdown",
   "metadata": {
    "id": "F-DzsEYxL01K"
   },
   "source": [
    "I think these two users who logged out or came as a guest and interesting thing is that they access multiple pages tried few features of the platform as well. they are top at giving thumbs to songs. let's try after removing all null values"
   ]
  },
  {
   "cell_type": "code",
   "execution_count": null,
   "metadata": {
    "colab": {
     "base_uri": "https://localhost:8080/"
    },
    "id": "rOGX5gBFL01K",
    "outputId": "8ff956da-07f1-4373-f8ee-a01d0326110b"
   },
   "outputs": [
    {
     "name": "stdout",
     "output_type": "stream",
     "text": [
      "+--------------------+--------------------+--------+-----+\n",
      "|              artist|                song|    page|count|\n",
      "+--------------------+--------------------+--------+-----+\n",
      "|       Dwight Yoakam|      You're The One|NextSong| 1122|\n",
      "|            BjÃÂ¶rk|                Undo|NextSong| 1026|\n",
      "|       Kings Of Leon|             Revelry|NextSong|  854|\n",
      "|            Harmonia|       Sehr kosmisch|NextSong|  728|\n",
      "|Barry Tuckwell/Ac...|Horn Concerto No....|NextSong|  641|\n",
      "|Florence + The Ma...|Dog Days Are Over...|NextSong|  574|\n",
      "|         OneRepublic|             Secrets|NextSong|  463|\n",
      "|       Kings Of Leon|        Use Somebody|NextSong|  459|\n",
      "|    Five Iron Frenzy|              Canada|NextSong|  434|\n",
      "|            Tub Ring|             Invalid|NextSong|  424|\n",
      "|           Sam Cooke|    Ain't Misbehavin|NextSong|  409|\n",
      "|     Alliance Ethnik|       ReprÃÂ©sente|NextSong|  393|\n",
      "|     Alliance Ethnik|SinceritÃÂ© Et J...|NextSong|  384|\n",
      "|       Lonnie Gordon|Catch You Baby (S...|NextSong|  373|\n",
      "|            Coldplay|              Yellow|NextSong|  340|\n",
      "|               Train|    Hey_ Soul Sister|NextSong|  334|\n",
      "|       Justin Bieber|    Somebody To Love|NextSong|  328|\n",
      "| Angels and Airwaves|            The Gift|NextSong|  326|\n",
      "|  Charttraxx Karaoke|           Fireflies|NextSong|  309|\n",
      "|             Cartola|            Tive Sim|NextSong|  304|\n",
      "+--------------------+--------------------+--------+-----+\n",
      "only showing top 20 rows\n",
      "\n"
     ]
    }
   ],
   "source": [
    "song_info = song_info.dropna(how='any')\n",
    "song_info.groupby(\"artist\",\"song\",\"page\").count().sort(\"count\",ascending=False).show()"
   ]
  },
  {
   "cell_type": "code",
   "execution_count": null,
   "metadata": {
    "colab": {
     "base_uri": "https://localhost:8080/"
    },
    "id": "x38OeB3iL01L",
    "outputId": "7187fd33-4cd8-4171-92a5-d67d879a86b0"
   },
   "outputs": [
    {
     "name": "stdout",
     "output_type": "stream",
     "text": [
      "+--------+------+\n",
      "|    page| count|\n",
      "+--------+------+\n",
      "|NextSong|228108|\n",
      "+--------+------+\n",
      "\n"
     ]
    }
   ],
   "source": [
    "song_info.where(song_info.page == \"NextSong\").groupBy('page').count().show() # number of songs listened"
   ]
  },
  {
   "cell_type": "code",
   "execution_count": null,
   "metadata": {
    "colab": {
     "base_uri": "https://localhost:8080/"
    },
    "id": "VQM-ca5zL01M",
    "outputId": "6e4d6396-54b2-4cf3-a12d-3953a0dbd741"
   },
   "outputs": [
    {
     "name": "stdout",
     "output_type": "stream",
     "text": [
      "Number of different artists is 17655\n",
      "Number of different song names is 58480\n",
      "Number of songs in dataset is 65966\n"
     ]
    }
   ],
   "source": [
    "print(\"Number of different artists is {}\".format(df.where(df.artist.isNotNull()).select('artist').dropDuplicates().count()))\n",
    "print(\"Number of different song names is {}\".format(df.where(df.song.isNotNull()).select('song').dropDuplicates().count()))\n",
    "print(\"Number of songs in dataset is {}\".format(df.select(['artist','song','length']).dropDuplicates().count()))"
   ]
  },
  {
   "cell_type": "markdown",
   "metadata": {
    "id": "3i-lekSwL01N"
   },
   "source": [
    "#### Hour's of music listened by the user"
   ]
  },
  {
   "cell_type": "code",
   "execution_count": null,
   "metadata": {
    "colab": {
     "base_uri": "https://localhost:8080/"
    },
    "id": "2_90fNFvL01O",
    "outputId": "a571b811-a6d4-4338-a314-705b07e7bf8c"
   },
   "outputs": [
    {
     "name": "stdout",
     "output_type": "stream",
     "text": [
      "+-----+-----+\n",
      "|hours|count|\n",
      "+-----+-----+\n",
      "|    0| 9062|\n",
      "|    1| 8388|\n",
      "|    2| 8336|\n",
      "|    3| 8355|\n",
      "|    4| 8147|\n",
      "+-----+-----+\n",
      "only showing top 5 rows\n",
      "\n"
     ]
    }
   ],
   "source": [
    "get_hours = udf(lambda x: datetime.datetime.fromtimestamp(x / 1000.0).hour)\n",
    "df = df.withColumn(\"hours\", get_hours(df.ts))\n",
    "\n",
    "songs_in_hour = df.filter(df.page == \"NextSong\").groupby(df.hours).count().orderBy(df.hours.cast(\"float\"))\n",
    "songs_in_hour.show(5)\n",
    "songs_in_hour_df = songs_in_hour.toPandas()"
   ]
  },
  {
   "cell_type": "code",
   "execution_count": null,
   "metadata": {
    "colab": {
     "base_uri": "https://localhost:8080/",
     "height": 334
    },
    "id": "fbJPJdq-L01O",
    "outputId": "b17265e4-c188-40b9-ff49-2ace227c8b12"
   },
   "outputs": [
    {
     "data": {
      "image/png": "[encoded data removed]",
      "text/plain": [
       "<Figure size 720x360 with 1 Axes>"
      ]
     },
     "metadata": {
      "tags": []
     },
     "output_type": "display_data"
    }
   ],
   "source": [
    "fig,ax = plt.subplots(figsize=(10, 5))\n",
    "\n",
    "sns.scatterplot(data=songs_in_hour_df,x = \"hours\",y=\"count\");\n",
    "ax.set_xlabel(\"Hours of the day\")\n",
    "ax.set_ylabel(\"Number of songs played\");\n"
   ]
  },
  {
   "cell_type": "markdown",
   "metadata": {
    "id": "NK0_URwPL01P"
   },
   "source": [
    "This is pretty interesting, Most users spends their time at the night. We can see trending graph from afternoon till midnight it's moving in upwards direction. People who spends less time using the service is from morning."
   ]
  },
  {
   "cell_type": "markdown",
   "metadata": {
    "id": "LV0KW_obL01P"
   },
   "source": [
    "### 3. Log Information"
   ]
  },
  {
   "cell_type": "code",
   "execution_count": null,
   "metadata": {
    "colab": {
     "base_uri": "https://localhost:8080/"
    },
    "id": "hOTKqG46L01Q",
    "outputId": "918ebd32-fe6c-4fdd-ab96-a3748be50535"
   },
   "outputs": [
    {
     "name": "stdout",
     "output_type": "stream",
     "text": [
      "+-------------------+---------------+---------+---------+-------------+------+------+\n",
      "|            Date_ts|           page|     auth|sessionId|itemInSession|method|status|\n",
      "+-------------------+---------------+---------+---------+-------------+------+------+\n",
      "|2018-10-01 00:01:57|       NextSong|Logged In|       29|           50|   PUT|   200|\n",
      "|2018-10-01 00:03:00|       NextSong|Logged In|        8|           79|   PUT|   200|\n",
      "|2018-10-01 00:06:34|       NextSong|Logged In|       29|           51|   PUT|   200|\n",
      "|2018-10-01 00:06:56|       NextSong|Logged In|        8|           80|   PUT|   200|\n",
      "|2018-10-01 00:11:16|       NextSong|Logged In|       29|           52|   PUT|   200|\n",
      "|2018-10-01 00:11:18|       NextSong|Logged In|        8|           81|   PUT|   200|\n",
      "|2018-10-01 00:14:46|       NextSong|Logged In|        8|           82|   PUT|   200|\n",
      "|2018-10-01 00:14:59|       NextSong|Logged In|       29|           53|   PUT|   200|\n",
      "|2018-10-01 00:15:05|Add to Playlist|Logged In|       29|           54|   PUT|   200|\n",
      "|2018-10-01 00:18:04|       NextSong|Logged In|       29|           55|   PUT|   200|\n",
      "|2018-10-01 00:19:06|       NextSong|Logged In|        8|           83|   PUT|   200|\n",
      "|2018-10-01 00:19:10|    Roll Advert|Logged In|        8|           84|   GET|   200|\n",
      "|2018-10-01 00:20:18|       NextSong|Logged In|       29|           56|   PUT|   200|\n",
      "|2018-10-01 00:22:55|       NextSong|Logged In|        8|           85|   PUT|   200|\n",
      "|2018-10-01 00:22:56|      Thumbs Up|Logged In|        8|           86|   PUT|   307|\n",
      "|2018-10-01 00:24:01|       NextSong|Logged In|       29|           57|   PUT|   200|\n",
      "|2018-10-01 00:26:16|       NextSong|Logged In|        8|           87|   PUT|   200|\n",
      "|2018-10-01 00:27:48|       NextSong|Logged In|      217|            0|   PUT|   200|\n",
      "|2018-10-01 00:28:07|       NextSong|Logged In|       29|           58|   PUT|   200|\n",
      "|2018-10-01 00:29:04|       NextSong|Logged In|        8|           88|   PUT|   200|\n",
      "+-------------------+---------------+---------+---------+-------------+------+------+\n",
      "only showing top 20 rows\n",
      "\n"
     ]
    }
   ],
   "source": [
    "log_info = df.select(['Date_ts', 'page', 'auth', 'sessionId', 'itemInSession', 'method', 'status'])\n",
    "log_info.show()"
   ]
  },
  {
   "cell_type": "code",
   "execution_count": null,
   "metadata": {
    "colab": {
     "base_uri": "https://localhost:8080/"
    },
    "id": "2mp3ANkHL01Q",
    "outputId": "0df18dff-e6f6-4183-ad84-8fc6c2c1d601"
   },
   "outputs": [
    {
     "data": {
      "text/plain": [
       "Date_ts          0\n",
       "page             0\n",
       "auth             0\n",
       "sessionId        0\n",
       "itemInSession    0\n",
       "method           0\n",
       "status           0\n",
       "dtype: int64"
      ]
     },
     "execution_count": 292,
     "metadata": {
      "tags": []
     },
     "output_type": "execute_result"
    }
   ],
   "source": [
    "log_info.toPandas().isna().sum()"
   ]
  },
  {
   "cell_type": "markdown",
   "metadata": {
    "id": "LOzGpx-UL01R"
   },
   "source": [
    "this log data does not contain any null values."
   ]
  },
  {
   "cell_type": "markdown",
   "metadata": {
    "id": "S189D50fL01R"
   },
   "source": [
    "#### Number of get & put methods"
   ]
  },
  {
   "cell_type": "code",
   "execution_count": null,
   "metadata": {
    "colab": {
     "base_uri": "https://localhost:8080/"
    },
    "id": "ptb1VjzZL01S",
    "outputId": "e0215080-10ce-4b14-94b4-b659a05374d8"
   },
   "outputs": [
    {
     "name": "stdout",
     "output_type": "stream",
     "text": [
      "+------+------+\n",
      "|method| count|\n",
      "+------+------+\n",
      "|   PUT|261064|\n",
      "|   GET| 25436|\n",
      "+------+------+\n",
      "\n"
     ]
    }
   ],
   "source": [
    "df.groupby('method').count().show()"
   ]
  },
  {
   "cell_type": "markdown",
   "metadata": {
    "id": "etYXLbkPL01S"
   },
   "source": [
    "#### Number of Statuses"
   ]
  },
  {
   "cell_type": "code",
   "execution_count": null,
   "metadata": {
    "colab": {
     "base_uri": "https://localhost:8080/"
    },
    "id": "rk6gkX7OL01T",
    "outputId": "f41fbfa5-8721-4601-843e-f892bd80a8da"
   },
   "outputs": [
    {
     "name": "stdout",
     "output_type": "stream",
     "text": [
      "+------+------+\n",
      "|status| count|\n",
      "+------+------+\n",
      "|   200|259812|\n",
      "|   307| 26430|\n",
      "|   404|   258|\n",
      "+------+------+\n",
      "\n"
     ]
    }
   ],
   "source": [
    "df.groupby('status').count().sort(\"count\",ascending=False).show()"
   ]
  },
  {
   "cell_type": "code",
   "execution_count": null,
   "metadata": {
    "colab": {
     "base_uri": "https://localhost:8080/"
    },
    "id": "12CPLmJcL01U",
    "outputId": "5b52b4a7-ce96-435d-9e4d-b420354fed78"
   },
   "outputs": [
    {
     "name": "stdout",
     "output_type": "stream",
     "text": [
      "+-----+---------+------+\n",
      "| page|     auth|method|\n",
      "+-----+---------+------+\n",
      "|Error|Logged In|   GET|\n",
      "|Error|Logged In|   GET|\n",
      "|Error|Logged In|   GET|\n",
      "|Error|Logged In|   GET|\n",
      "|Error|Logged In|   GET|\n",
      "|Error|Logged In|   GET|\n",
      "|Error|Logged In|   GET|\n",
      "|Error|Logged In|   GET|\n",
      "|Error|Logged In|   GET|\n",
      "|Error|Logged In|   GET|\n",
      "|Error|Logged In|   GET|\n",
      "|Error|Logged In|   GET|\n",
      "|Error|Logged In|   GET|\n",
      "|Error|Logged In|   GET|\n",
      "|Error|Logged In|   GET|\n",
      "|Error|Logged In|   GET|\n",
      "|Error|Logged In|   GET|\n",
      "|Error|Logged In|   GET|\n",
      "|Error|Logged In|   GET|\n",
      "|Error|Logged In|   GET|\n",
      "+-----+---------+------+\n",
      "only showing top 20 rows\n",
      "\n"
     ]
    }
   ],
   "source": [
    "df.where(df.status == '404').select([\"page\",\"auth\",\"method\"]).show()"
   ]
  },
  {
   "cell_type": "markdown",
   "metadata": {
    "id": "5GHJ_gAOL01U"
   },
   "source": [
    "## Data Preprocessing \n",
    "The More EDA PART"
   ]
  },
  {
   "cell_type": "markdown",
   "metadata": {
    "id": "tyt2H-M7L01V"
   },
   "source": [
    "#### Let's find the user who downgraded their service first from Paid to free one."
   ]
  },
  {
   "cell_type": "code",
   "execution_count": null,
   "metadata": {
    "id": "J2yE7OEZL01V"
   },
   "outputs": [],
   "source": [
    "# First we will remove all null & empty values from our dataset\n",
    "\n",
    "df = df.dropna(how = 'any', subset = ['userId','sessionId'])\n",
    "df = df[df.userId != \"\"]"
   ]
  },
  {
   "cell_type": "code",
   "execution_count": null,
   "metadata": {
    "colab": {
     "base_uri": "https://localhost:8080/"
    },
    "id": "n7UbI15xhhgY",
    "outputId": "791c517a-1b18-4f96-aa7f-6b93856ba65c"
   },
   "outputs": [
    {
     "data": {
      "text/plain": [
       "278154"
      ]
     },
     "execution_count": 297,
     "metadata": {
      "tags": []
     },
     "output_type": "execute_result"
    }
   ],
   "source": [
    "df.count()"
   ]
  },
  {
   "cell_type": "code",
   "execution_count": null,
   "metadata": {
    "colab": {
     "base_uri": "https://localhost:8080/"
    },
    "id": "7lp2VVHYL01W",
    "outputId": "7aace11f-13f6-4598-f323-512943e6036a"
   },
   "outputs": [
    {
     "name": "stdout",
     "output_type": "stream",
     "text": [
      "+------+---------+------+-----+----------------+-------------------+\n",
      "|userId|firstName|gender|level|            page|            date_ts|\n",
      "+------+---------+------+-----+----------------+-------------------+\n",
      "|   131|     Kael|     M| paid|Submit Downgrade|2018-10-01 11:33:39|\n",
      "|    38|   Calvin|     M| paid|Submit Downgrade|2018-10-02 21:40:45|\n",
      "|   141|  Kaylenn|     F| paid|Submit Downgrade|2018-10-06 14:17:59|\n",
      "|    30|    Colin|     M| paid|Submit Downgrade|2018-10-08 10:44:14|\n",
      "|    20|  Destiny|     F| paid|Submit Downgrade|2018-10-08 11:15:56|\n",
      "|    12|   Sophia|     F| paid|Submit Downgrade|2018-10-10 04:00:47|\n",
      "|    11|      Zoe|     F| paid|Submit Downgrade|2018-10-11 06:35:42|\n",
      "|    61|   Parker|     M| paid|Submit Downgrade|2018-10-11 07:49:48|\n",
      "|    81|   Oliver|     M| paid|Submit Downgrade|2018-10-11 13:25:37|\n",
      "|    85|  Brayden|     M| paid|Submit Downgrade|2018-10-12 09:13:19|\n",
      "|   140|   Lucero|     F| paid|Submit Downgrade|2018-10-12 09:43:03|\n",
      "|    35|     Lily|     F| paid|Submit Downgrade|2018-10-13 21:56:38|\n",
      "|    54|    Alexi|     F| paid|Submit Downgrade|2018-10-15 12:54:20|\n",
      "|    77|   Autumn|     F| paid|Submit Downgrade|2018-10-15 12:58:58|\n",
      "|    59|   Jaleel|     M| paid|Submit Downgrade|2018-10-15 19:52:47|\n",
      "|   103|    Piper|     F| paid|Submit Downgrade|2018-10-15 23:56:25|\n",
      "|    95|    Faigy|     F| paid|Submit Downgrade|2018-10-16 07:44:54|\n",
      "|    74|  Ashlynn|     F| paid|Submit Downgrade|2018-10-22 19:04:33|\n",
      "|    85|  Brayden|     M| paid|Submit Downgrade|2018-10-24 12:14:45|\n",
      "|     9|    Micah|     M| paid|Submit Downgrade|2018-10-28 05:53:27|\n",
      "+------+---------+------+-----+----------------+-------------------+\n",
      "only showing top 20 rows\n",
      "\n"
     ]
    }
   ],
   "source": [
    "usr_down = df.filter(\"page == 'Submit Downgrade'\").select([\"userId\",\"firstName\",\"gender\",\"level\",\"page\",\"date_ts\"])\n",
    "usr_down.show()"
   ]
  },
  {
   "cell_type": "markdown",
   "metadata": {
    "id": "j-k0wBUTL01W"
   },
   "source": [
    "#### Number of unique users who downgraded their service"
   ]
  },
  {
   "cell_type": "code",
   "execution_count": null,
   "metadata": {
    "colab": {
     "base_uri": "https://localhost:8080/"
    },
    "id": "WR5gqYAoL01W",
    "outputId": "7128d4aa-4453-40de-c7f1-04d87a4dd3e5"
   },
   "outputs": [
    {
     "data": {
      "text/plain": [
       "49"
      ]
     },
     "execution_count": 299,
     "metadata": {
      "tags": []
     },
     "output_type": "execute_result"
    }
   ],
   "source": [
    "usr_down.select(\"userId\").distinct().count()"
   ]
  },
  {
   "cell_type": "code",
   "execution_count": null,
   "metadata": {
    "id": "hm4t2t36L01X"
   },
   "outputs": [],
   "source": [
    "# we know about unique users & now we have unique users who downgraded the service.\n",
    "uni = user_info.select(\"userId\").distinct().toPandas()\n",
    "down_uni = usr_down.select(\"userId\").distinct().toPandas()"
   ]
  },
  {
   "cell_type": "code",
   "execution_count": null,
   "metadata": {
    "colab": {
     "base_uri": "https://localhost:8080/",
     "height": 411
    },
    "id": "JYq41ufWL01X",
    "outputId": "b8978227-87ed-4422-eaf3-2dadd4cd1e03"
   },
   "outputs": [
    {
     "data": {
      "image/png": "[encoded data removed]",
      "text/plain": [
       "<Figure size 720x504 with 1 Axes>"
      ]
     },
     "metadata": {
      "tags": []
     },
     "output_type": "display_data"
    }
   ],
   "source": [
    "data = [uni.userId.count(),down_uni.userId.count()]\n",
    "label = [\"Total Unique Users\",\"Downgraded Users\"]\n",
    "\n",
    "fig = plt.figure(figsize =(10, 7))\n",
    "plt.pie(data, labels = label,autopct='%1.1f%%')\n",
    "  \n",
    "# show plot\n",
    "plt.show()"
   ]
  },
  {
   "cell_type": "markdown",
   "metadata": {
    "id": "wxF5Ul5PL01Y"
   },
   "source": [
    "Let's look at a perticular user & observe it's behaviour"
   ]
  },
  {
   "cell_type": "code",
   "execution_count": null,
   "metadata": {
    "colab": {
     "base_uri": "https://localhost:8080/"
    },
    "id": "xajXyOQ9L01Y",
    "outputId": "a80f950b-d418-44eb-9ecf-037001f68c3f"
   },
   "outputs": [
    {
     "name": "stdout",
     "output_type": "stream",
     "text": [
      "+------+---------+------+-----+----------------+-------------------+\n",
      "|userId|firstName|gender|level|            page|            date_ts|\n",
      "+------+---------+------+-----+----------------+-------------------+\n",
      "|   131|     Kael|     M| paid|Submit Downgrade|2018-10-01 11:33:39|\n",
      "|   131|     Kael|     M| paid|Submit Downgrade|2018-11-19 23:51:37|\n",
      "+------+---------+------+-----+----------------+-------------------+\n",
      "\n"
     ]
    }
   ],
   "source": [
    "usr_down.where(usr_down.userId == 131).show()"
   ]
  },
  {
   "cell_type": "code",
   "execution_count": null,
   "metadata": {
    "colab": {
     "base_uri": "https://localhost:8080/"
    },
    "id": "zYeucQQnL01Y",
    "outputId": "e6267cb6-9574-4991-eed4-e4fd2bdf2ffc"
   },
   "outputs": [
    {
     "name": "stdout",
     "output_type": "stream",
     "text": [
      "+------+---------+------+-----+-------+-------------------+\n",
      "|userId|firstName|gender|level|   page|            date_ts|\n",
      "+------+---------+------+-----+-------+-------------------+\n",
      "|   131|     Kael|     M| free|Upgrade|2018-10-01 10:32:10|\n",
      "+------+---------+------+-----+-------+-------------------+\n",
      "\n"
     ]
    }
   ],
   "source": [
    "df.filter(\"page == 'Upgrade'\").select([\"userId\",\"firstName\",\"gender\",\"level\",\"page\",\"date_ts\"]).where(df.userId == 131).show()"
   ]
  },
  {
   "cell_type": "markdown",
   "metadata": {
    "id": "oM90xxpTL01Z"
   },
   "source": [
    "Here we observe a perticular user(userID=131,kael) who downgraded their service twice on October & november month. later we try to find that when the user has upgraded their service so that we can have clear understanding. On the same day October 10th user upgraded the serive use for about an hour & then again submited downgrade.There should be one more submission of upgrade by the same user but it's not showing up, maybe beacause we filtered out some of missing & null values. let's move on to the next obervation."
   ]
  },
  {
   "cell_type": "code",
   "execution_count": null,
   "metadata": {
    "id": "KHFC2ZXWL01a"
   },
   "outputs": [],
   "source": [
    "# Let's flag this downgrade serive as 0 or 1 with user define funciton.\n",
    "\n",
    "downgrade_flag_func = udf(lambda x:1 if x == \"Submit Downgrade\" else 0, IntegerType())"
   ]
  },
  {
   "cell_type": "code",
   "execution_count": null,
   "metadata": {
    "id": "ChJxnueXL01b"
   },
   "outputs": [],
   "source": [
    "df = df.withColumn(\"downgraded\", downgrade_flag_func(\"page\"))"
   ]
  },
  {
   "cell_type": "code",
   "execution_count": null,
   "metadata": {
    "id": "rcrnS7GZL01e"
   },
   "outputs": [],
   "source": [
    "df = df.withColumn('user_downgrade', Fmax('downgraded').over(Window.partitionBy('UserId')))"
   ]
  },
  {
   "cell_type": "code",
   "execution_count": null,
   "metadata": {
    "colab": {
     "base_uri": "https://localhost:8080/"
    },
    "id": "KqPXqZNXL01f",
    "outputId": "8499c24d-e67d-4374-aeaa-3b359b681e63"
   },
   "outputs": [
    {
     "name": "stdout",
     "output_type": "stream",
     "text": [
      "+------+---------+------+-----+----------------+-------------------+----------+--------------+\n",
      "|userId|firstName|gender|level|            page|            date_ts|downgraded|user_downgrade|\n",
      "+------+---------+------+-----+----------------+-------------------+----------+--------------+\n",
      "|    54|    Alexi|     F| paid|Submit Downgrade|2018-10-15 12:54:20|         1|             1|\n",
      "|    11|      Zoe|     F| paid|Submit Downgrade|2018-10-11 06:35:42|         1|             1|\n",
      "|    30|    Colin|     M| paid|Submit Downgrade|2018-10-08 10:44:14|         1|             1|\n",
      "|    59|   Jaleel|     M| paid|Submit Downgrade|2018-10-15 19:52:47|         1|             1|\n",
      "|    85|  Brayden|     M| paid|Submit Downgrade|2018-10-12 09:13:19|         1|             1|\n",
      "|    85|  Brayden|     M| paid|Submit Downgrade|2018-10-24 12:14:45|         1|             1|\n",
      "|    35|     Lily|     F| paid|Submit Downgrade|2018-10-13 21:56:38|         1|             1|\n",
      "|    35|     Lily|     F| paid|Submit Downgrade|2018-11-07 19:46:36|         1|             1|\n",
      "|100008|  Bryanna|     F| paid|Submit Downgrade|2018-11-20 21:21:41|         1|             1|\n",
      "|100025|   London|     F| paid|Submit Downgrade|2018-10-19 17:05:28|         1|             1|\n",
      "+------+---------+------+-----+----------------+-------------------+----------+--------------+\n",
      "only showing top 10 rows\n",
      "\n"
     ]
    }
   ],
   "source": [
    "df.select([\"userId\",\"firstName\",\"gender\",\"level\",\"page\",\"date_ts\",\"downgraded\",\"user_downgrade\"]).where(\"downgraded == 1\").show(10)"
   ]
  },
  {
   "cell_type": "markdown",
   "metadata": {
    "id": "ww71NoQ7L01f"
   },
   "source": [
    "Here, we can see that two columns are added now we can move towards the user who left our platform basically the churn users"
   ]
  },
  {
   "cell_type": "code",
   "execution_count": null,
   "metadata": {
    "id": "nugkf88BL01f"
   },
   "outputs": [],
   "source": [
    "# we will start with creating a udf for churn user\n",
    "\n",
    "churn_func = udf(lambda x:1 if x == \"Cancellation Confirmation\" else 0, IntegerType())\n",
    "df = df.withColumn(\"churn\", churn_func(\"page\"))\n",
    "df = df.withColumn('churn_users', Fmax('churn').over(Window.partitionBy('UserId')))"
   ]
  },
  {
   "cell_type": "code",
   "execution_count": null,
   "metadata": {
    "colab": {
     "base_uri": "https://localhost:8080/"
    },
    "id": "hUoeSI0rL01g",
    "outputId": "6fc629cc-a319-4fb1-c5e9-8053492043ab"
   },
   "outputs": [
    {
     "name": "stdout",
     "output_type": "stream",
     "text": [
      "+------+---------+------+-----+----------------+-------------------+----------+--------------+-----+-----------+\n",
      "|userId|firstName|gender|level|            page|            date_ts|downgraded|user_downgrade|churn|churn_users|\n",
      "+------+---------+------+-----+----------------+-------------------+----------+--------------+-----+-----------+\n",
      "|    54|    Alexi|     F| paid|Submit Downgrade|2018-10-15 12:54:20|         1|             1|    0|          1|\n",
      "|    11|      Zoe|     F| paid|Submit Downgrade|2018-10-11 06:35:42|         1|             1|    0|          0|\n",
      "|    30|    Colin|     M| paid|Submit Downgrade|2018-10-08 10:44:14|         1|             1|    0|          0|\n",
      "|    59|   Jaleel|     M| paid|Submit Downgrade|2018-10-15 19:52:47|         1|             1|    0|          0|\n",
      "|    85|  Brayden|     M| paid|Submit Downgrade|2018-10-12 09:13:19|         1|             1|    0|          0|\n",
      "|    85|  Brayden|     M| paid|Submit Downgrade|2018-10-24 12:14:45|         1|             1|    0|          0|\n",
      "|    35|     Lily|     F| paid|Submit Downgrade|2018-10-13 21:56:38|         1|             1|    0|          0|\n",
      "|    35|     Lily|     F| paid|Submit Downgrade|2018-11-07 19:46:36|         1|             1|    0|          0|\n",
      "|100008|  Bryanna|     F| paid|Submit Downgrade|2018-11-20 21:21:41|         1|             1|    0|          0|\n",
      "|100025|   London|     F| paid|Submit Downgrade|2018-10-19 17:05:28|         1|             1|    0|          1|\n",
      "+------+---------+------+-----+----------------+-------------------+----------+--------------+-----+-----------+\n",
      "only showing top 10 rows\n",
      "\n"
     ]
    }
   ],
   "source": [
    "df.select([\"userId\",\"firstName\",\"gender\",\"level\",\"page\",\"date_ts\",\"downgraded\",\"user_downgrade\",\"churn\",\"churn_users\"]).where(\"downgraded == 1\").show(10)"
   ]
  },
  {
   "cell_type": "markdown",
   "metadata": {
    "id": "zBRuI3VvL01g"
   },
   "source": [
    "#### Number of user who downgraded & cancle the service too"
   ]
  },
  {
   "cell_type": "code",
   "execution_count": null,
   "metadata": {
    "colab": {
     "base_uri": "https://localhost:8080/"
    },
    "id": "V73J04d4L01g",
    "outputId": "4fdedac1-ea0e-45fe-95ec-82c1eff392cc"
   },
   "outputs": [
    {
     "data": {
      "text/plain": [
       "9"
      ]
     },
     "execution_count": 310,
     "metadata": {
      "tags": []
     },
     "output_type": "execute_result"
    }
   ],
   "source": [
    "df.where(\"user_downgrade == 1 and churn_users == 1\").select([\"userId\",\"user_downgrade\",\"churn_users\"]).distinct().count()"
   ]
  },
  {
   "cell_type": "markdown",
   "metadata": {
    "id": "IPWi0KdiL01g"
   },
   "source": [
    "we know that 49 users have downgraded & now out of that 9 unique users left our service or churn we can say"
   ]
  },
  {
   "cell_type": "code",
   "execution_count": null,
   "metadata": {
    "colab": {
     "base_uri": "https://localhost:8080/",
     "height": 173
    },
    "id": "kCATDcp2L01h",
    "outputId": "b60f8412-330b-4d60-bd07-b819b353e208"
   },
   "outputs": [
    {
     "data": {
      "text/html": [
       "<div>\n",
       "<style scoped>\n",
       "    .dataframe tbody tr th:only-of-type {\n",
       "        vertical-align: middle;\n",
       "    }\n",
       "\n",
       "    .dataframe tbody tr th {\n",
       "        vertical-align: top;\n",
       "    }\n",
       "\n",
       "    .dataframe thead th {\n",
       "        text-align: right;\n",
       "    }\n",
       "</style>\n",
       "<table border=\"1\" class=\"dataframe\">\n",
       "  <thead>\n",
       "    <tr style=\"text-align: right;\">\n",
       "      <th></th>\n",
       "      <th>churn_users</th>\n",
       "      <th>gender</th>\n",
       "      <th>count</th>\n",
       "    </tr>\n",
       "  </thead>\n",
       "  <tbody>\n",
       "    <tr>\n",
       "      <th>0</th>\n",
       "      <td>1</td>\n",
       "      <td>F</td>\n",
       "      <td>20</td>\n",
       "    </tr>\n",
       "    <tr>\n",
       "      <th>1</th>\n",
       "      <td>0</td>\n",
       "      <td>M</td>\n",
       "      <td>89</td>\n",
       "    </tr>\n",
       "    <tr>\n",
       "      <th>2</th>\n",
       "      <td>1</td>\n",
       "      <td>M</td>\n",
       "      <td>32</td>\n",
       "    </tr>\n",
       "    <tr>\n",
       "      <th>3</th>\n",
       "      <td>0</td>\n",
       "      <td>F</td>\n",
       "      <td>84</td>\n",
       "    </tr>\n",
       "  </tbody>\n",
       "</table>\n",
       "</div>"
      ],
      "text/plain": [
       "   churn_users gender  count\n",
       "0  1            F      20   \n",
       "1  0            M      89   \n",
       "2  1            M      32   \n",
       "3  0            F      84   "
      ]
     },
     "execution_count": 311,
     "metadata": {
      "tags": []
     },
     "output_type": "execute_result"
    }
   ],
   "source": [
    "# let's look by gender specific\n",
    "churn_gender = df.drop_duplicates(['userId', 'gender']).groupby(['churn_users', 'gender']).count().toPandas()\n",
    "churn_gender"
   ]
  },
  {
   "cell_type": "code",
   "execution_count": null,
   "metadata": {
    "colab": {
     "base_uri": "https://localhost:8080/",
     "height": 350
    },
    "id": "RJ0qcGuVL01h",
    "outputId": "9f95c96e-6a2d-4e61-85d1-beae50462d76"
   },
   "outputs": [
    {
     "data": {
      "image/png": "[encoded data removed]",
      "text/plain": [
       "<Figure size 720x360 with 1 Axes>"
      ]
     },
     "metadata": {
      "tags": []
     },
     "output_type": "display_data"
    }
   ],
   "source": [
    "# Let's Plot a bar graph to show gender distribution between regular and churn users\n",
    "fig, ax = plt.subplots(figsize=(10, 5))\n",
    "plt.title('Gender distribution between regular and churn users')\n",
    "ax = sns.barplot(x = 'churn_users', y = 'count', data = churn_gender, hue = 'gender')\n",
    "\n",
    "ax.set(xticklabels=['Not Churned', 'Churned'])\n",
    "\n",
    "ax.set_ylabel('Count')\n",
    "ax.set_xlabel('User Churn');"
   ]
  },
  {
   "cell_type": "markdown",
   "metadata": {
    "id": "LWT86vJuL01h"
   },
   "source": [
    "Let's find out something different we have lot of information in the page columns so let's with that."
   ]
  },
  {
   "cell_type": "markdown",
   "metadata": {
    "id": "HlXYT1DLL01i"
   },
   "source": [
    "#### Who made more friends? A churn user or a non_churn user"
   ]
  },
  {
   "cell_type": "code",
   "execution_count": null,
   "metadata": {
    "id": "RTLaaaSWL01i"
   },
   "outputs": [],
   "source": [
    "friends_churn = df.select([\"userId\",\"page\",\"churn_users\"]).distinct().filter(\"page == 'Add Friend' and churn_users == 1\").count()\n",
    "friends_not_churn = df.select([\"userId\",\"page\",\"churn_users\"]).distinct().filter(\"page == 'Add Friend' and churn_users == 0\").count()"
   ]
  },
  {
   "cell_type": "code",
   "execution_count": null,
   "metadata": {
    "colab": {
     "base_uri": "https://localhost:8080/",
     "height": 427
    },
    "id": "soiDENv8L01i",
    "outputId": "2aaa1945-f37c-454d-8a55-461eb8365c09"
   },
   "outputs": [
    {
     "data": {
      "image/png": "[encoded data removed]",
      "text/plain": [
       "<Figure size 720x504 with 1 Axes>"
      ]
     },
     "metadata": {
      "tags": []
     },
     "output_type": "display_data"
    }
   ],
   "source": [
    "# Plotting a pie graph of who made more friends churn user or non-churn user\n",
    "fig = plt.figure(figsize =(10, 7))\n",
    "data = [friends_churn,friends_not_churn]\n",
    "label= [\"churn users friends\",\"non-churn users friends\"]\n",
    "plt.pie(data, labels = label,autopct='%1.1f%%')\n",
    "plt.title(\"who made more friends churn user or non-churn user\")\n",
    "  \n",
    "# show plot\n",
    "plt.show()"
   ]
  },
  {
   "cell_type": "markdown",
   "metadata": {
    "id": "k4lFZaK5L01i"
   },
   "source": [
    "#### Number of times the services has beed upgraded"
   ]
  },
  {
   "cell_type": "code",
   "execution_count": null,
   "metadata": {
    "colab": {
     "base_uri": "https://localhost:8080/"
    },
    "id": "tgqr-Zq1L01j",
    "outputId": "991687d4-d869-4fb0-a4b7-6c4ea95d9db1"
   },
   "outputs": [
    {
     "data": {
      "text/plain": [
       "499"
      ]
     },
     "execution_count": 315,
     "metadata": {
      "tags": []
     },
     "output_type": "execute_result"
    }
   ],
   "source": [
    "df.select(\"userId\",\"page\").filter(\"page == 'Upgrade'\").count()"
   ]
  },
  {
   "cell_type": "code",
   "execution_count": null,
   "metadata": {
    "id": "mz2LoKkJL01j"
   },
   "outputs": [],
   "source": [
    "thumsup_churn = df.select([\"userId\",\"page\",\"churn_users\"]).distinct().filter(\"page == 'Thumbs Up' and churn_users == 1\").count()\n",
    "thumsup_non_churn = df.select([\"userId\",\"page\",\"churn_users\"]).distinct().filter(\"page == 'Thumbs Up' and churn_users == 0\").count()"
   ]
  },
  {
   "cell_type": "code",
   "execution_count": null,
   "metadata": {
    "colab": {
     "base_uri": "https://localhost:8080/",
     "height": 411
    },
    "id": "mKceJpoSL01j",
    "outputId": "83af2d82-d8b6-4694-a93f-684a1d3e0c76"
   },
   "outputs": [
    {
     "data": {
      "image/png": "[encoded data removed]",
      "text/plain": [
       "<Figure size 720x504 with 1 Axes>"
      ]
     },
     "metadata": {
      "tags": []
     },
     "output_type": "display_data"
    }
   ],
   "source": [
    "# Plotting a pie graph of who liked more songs\n",
    "fig = plt.figure(figsize =(10, 7))\n",
    "data = [thumsup_churn,thumsup_non_churn]\n",
    "label= [\"churn_thums_up\",\"non-churn thums_up\"]\n",
    "plt.pie(data, labels = label,autopct='%1.1f%%')\n",
    "  \n",
    "# show plot\n",
    "plt.show()"
   ]
  },
  {
   "cell_type": "markdown",
   "metadata": {
    "id": "B-iy2JToL01k"
   },
   "source": [
    "## Feature Engineering \n",
    "let's make feature out of the data\n",
    "\n",
    "we will do Feature Engineering, will extract some relevent features out the dataest which help us in building the model\n",
    "\n",
    "Until now we have observed lot of things about the user, now that can be helpful here to make new features out of it. we will focus more on user's interection with our services that mean where the user has spend most of their time there we have to focus. Like that can pages, from this alone we can have lot of information about the interaction. so let's try building some features\n",
    "\n",
    "what possible features can we get:\n",
    "\n",
    "* User's Gender\n",
    "* Paid or Free users\n",
    "* User Downgraded\n",
    "* total Number of songs listened by the user\n",
    "* Number of thumbs up/down\n",
    "* total time of user's service\n",
    "* Number of songs played per session\n",
    "* Number of songs added to playlist\n",
    "* Music listened by the user at perticular hour\n",
    "* Average Number of friends made by the user\n",
    "* Number of times downgraded the service by the user in their service\n"
   ]
  },
  {
   "cell_type": "code",
   "execution_count": null,
   "metadata": {
    "id": "Mkq_otCcL01k"
   },
   "outputs": [],
   "source": [
    "feature_df = [] # our list of features will go into this"
   ]
  },
  {
   "cell_type": "markdown",
   "metadata": {
    "id": "RNLKOv7uL01k"
   },
   "source": [
    "#### User's gender"
   ]
  },
  {
   "cell_type": "code",
   "execution_count": null,
   "metadata": {
    "id": "7nmv4cEcL01l"
   },
   "outputs": [],
   "source": [
    "def users_gender_func(df):\n",
    "    \"\"\"\n",
    "    Makes user's gender column in 0's & 1's & adds in features. 1 for M & 0 for F\n",
    "    :param df: Spark DataFrame\n",
    "    :return None\n",
    "    \"\"\"\n",
    "    \n",
    "    gender_df = df.groupby('userId').agg(first(when(df['gender'] == \"M\", 1).otherwise(0)).alias('gender'))\n",
    "    feature_df.append(gender_df)\n",
    "    \n",
    "    return None\n",
    "\n",
    "users_gender_func(df)"
   ]
  },
  {
   "cell_type": "code",
   "execution_count": null,
   "metadata": {
    "colab": {
     "base_uri": "https://localhost:8080/"
    },
    "id": "yXbGnslWL01l",
    "outputId": "41a1bbd4-8b1b-413a-ba7c-d9cc715397c5"
   },
   "outputs": [
    {
     "data": {
      "text/plain": [
       "[DataFrame[userId: string, gender: int]]"
      ]
     },
     "execution_count": 320,
     "metadata": {
      "tags": []
     },
     "output_type": "execute_result"
    }
   ],
   "source": [
    "feature_df"
   ]
  },
  {
   "cell_type": "markdown",
   "metadata": {
    "id": "EQqe5uFcL01l"
   },
   "source": [
    "#### Paid or Free users\n",
    "\n",
    "we will create binary values for paid or free users"
   ]
  },
  {
   "cell_type": "code",
   "execution_count": null,
   "metadata": {
    "id": "d7YnDvTJL01l"
   },
   "outputs": [],
   "source": [
    "def paid_free_users(df):\n",
    "    \"\"\"\n",
    "    create binary values for paid or free users. 1 for paid & 0 for free\n",
    "    :param df: Spark DataFrame\n",
    "    :return None\n",
    "    \n",
    "    \"\"\"\n",
    "    \n",
    "    level_df = df.groupby('userId').agg(first(when(df['level'] == \"paid\", 1).otherwise(0)).alias('level'))\n",
    "    feature_df.append(level_df)\n",
    "    \n",
    "    return None\n",
    "\n",
    "paid_free_users(df)"
   ]
  },
  {
   "cell_type": "code",
   "execution_count": null,
   "metadata": {
    "colab": {
     "base_uri": "https://localhost:8080/"
    },
    "id": "sV-m3pa1L01m",
    "outputId": "538d9aa6-8388-48e7-fbdb-ccd14ecbc410"
   },
   "outputs": [
    {
     "data": {
      "text/plain": [
       "[DataFrame[userId: string, gender: int], DataFrame[userId: string, level: int]]"
      ]
     },
     "execution_count": 322,
     "metadata": {
      "tags": []
     },
     "output_type": "execute_result"
    }
   ],
   "source": [
    "feature_df"
   ]
  },
  {
   "cell_type": "markdown",
   "metadata": {
    "id": "sGQn22W0L01m"
   },
   "source": [
    "####  Total songs listened by the user"
   ]
  },
  {
   "cell_type": "code",
   "execution_count": null,
   "metadata": {
    "id": "_cQkhUB_L01m"
   },
   "outputs": [],
   "source": [
    "def total_songs_func(df):\n",
    "    \"\"\"\n",
    "    creates a dataframe for total songs listened by the each user & add thid df to features\n",
    "    :param df: Spark DataFrame\n",
    "    :return None\n",
    "    \n",
    "    \"\"\"\n",
    "    \n",
    "    total_songs_df = df.select(\"userId\",\"page\").filter(\"page == 'NextSong'\").groupby(\"userId\").count().withColumnRenamed(\"count\",\"total_songs\")\n",
    "    feature_df.append(total_songs_df)\n",
    "    \n",
    "    return None\n",
    "\n",
    "total_songs_func(df)"
   ]
  },
  {
   "cell_type": "code",
   "execution_count": null,
   "metadata": {
    "colab": {
     "base_uri": "https://localhost:8080/"
    },
    "id": "CsuOAww2L01n",
    "outputId": "00c35720-d2eb-441a-b9b7-82a892cf5860"
   },
   "outputs": [
    {
     "data": {
      "text/plain": [
       "[DataFrame[userId: string, gender: int],\n",
       " DataFrame[userId: string, level: int],\n",
       " DataFrame[userId: string, total_songs: bigint]]"
      ]
     },
     "execution_count": 324,
     "metadata": {
      "tags": []
     },
     "output_type": "execute_result"
    }
   ],
   "source": [
    "feature_df"
   ]
  },
  {
   "cell_type": "markdown",
   "metadata": {
    "id": "1Tij2IcZL01o"
   },
   "source": [
    "#### Number of thumbs up/down"
   ]
  },
  {
   "cell_type": "code",
   "execution_count": null,
   "metadata": {
    "id": "Mr6onaXmL01q"
   },
   "outputs": [],
   "source": [
    "def thumbs_up_func(df):\n",
    "    \"\"\"\n",
    "    creates a dataframe of thumbs up/down & it's count\n",
    "    :param df: Spark DataFrame\n",
    "    :return None\n",
    "    \n",
    "    \"\"\"\n",
    "    \n",
    "    thumbs_up_df = df.select('userId', 'page').filter(\"page == 'Thumbs Up'\").groupBy('userId').count() \\\n",
    "                    .withColumnRenamed('count', 'thumbs_up')\n",
    "    feature_df.append(thumbs_up_df)\n",
    "    \n",
    "    return None\n",
    "\n",
    "thumbs_up_func(df)"
   ]
  },
  {
   "cell_type": "code",
   "execution_count": null,
   "metadata": {
    "colab": {
     "base_uri": "https://localhost:8080/"
    },
    "id": "ETDErcIoL01r",
    "outputId": "568f40b0-8264-41f7-c154-11a7c72a3479"
   },
   "outputs": [
    {
     "data": {
      "text/plain": [
       "[DataFrame[userId: string, gender: int],\n",
       " DataFrame[userId: string, level: int],\n",
       " DataFrame[userId: string, total_songs: bigint],\n",
       " DataFrame[userId: string, thumbs_up: bigint]]"
      ]
     },
     "execution_count": 328,
     "metadata": {
      "tags": []
     },
     "output_type": "execute_result"
    }
   ],
   "source": [
    "feature_df"
   ]
  },
  {
   "cell_type": "code",
   "execution_count": null,
   "metadata": {
    "id": "EnAmHTY1L01s"
   },
   "outputs": [],
   "source": [
    "def thumbs_down_func(df):\n",
    "    \"\"\"\n",
    "    creates a dataframe of thumbs up/down & it's count\n",
    "    :param df: Spark DataFrame\n",
    "    :return None\n",
    "    \n",
    "    \"\"\"\n",
    "    \n",
    "    thumbs_down_df = df.select('userId', 'page').filter(\"page == 'Thumbs Down'\").groupBy('userId').count() \\\n",
    "                    .withColumnRenamed('count', 'thumbs_down')\n",
    "    feature_df.append(thumbs_down_df)\n",
    "    \n",
    "    return None\n",
    "\n",
    "thumbs_down_func(df)"
   ]
  },
  {
   "cell_type": "code",
   "execution_count": null,
   "metadata": {
    "colab": {
     "base_uri": "https://localhost:8080/"
    },
    "id": "tmH0OxDgL01s",
    "outputId": "237994ef-13e9-47ea-8bb1-da18170a8d07"
   },
   "outputs": [
    {
     "data": {
      "text/plain": [
       "[DataFrame[userId: string, gender: int],\n",
       " DataFrame[userId: string, level: int],\n",
       " DataFrame[userId: string, total_songs: bigint],\n",
       " DataFrame[userId: string, thumbs_up: bigint],\n",
       " DataFrame[userId: string, thumbs_down: bigint]]"
      ]
     },
     "execution_count": 330,
     "metadata": {
      "tags": []
     },
     "output_type": "execute_result"
    }
   ],
   "source": [
    "feature_df"
   ]
  },
  {
   "cell_type": "markdown",
   "metadata": {
    "id": "a4_YwoJvL01t"
   },
   "source": [
    "#### Total time of user's service"
   ]
  },
  {
   "cell_type": "code",
   "execution_count": null,
   "metadata": {
    "id": "oGQYIPEFL01t"
   },
   "outputs": [],
   "source": [
    "def users_service_time_func(df):\n",
    "    \"\"\"\n",
    "    creates a dataframe of users life with our service using registration column\n",
    "    :param df: Spark DataFrame\n",
    "    :return None\n",
    "    \n",
    "    \"\"\"\n",
    "    \n",
    "    users_service_time = df.groupby(['userId', 'ts', 'registration']).count() \\\n",
    "                            .withColumn('life_time', (df.ts - df.registration) / 1000) \\\n",
    "                            .groupBy('userId').agg(Fmax('life_time')).withColumnRenamed('max(life_time)', 'service_time')\n",
    "    \n",
    "    feature_df.append(users_service_time)\n",
    "    \n",
    "    return None\n",
    "\n",
    "users_service_time_func(df)"
   ]
  },
  {
   "cell_type": "code",
   "execution_count": null,
   "metadata": {
    "colab": {
     "base_uri": "https://localhost:8080/"
    },
    "id": "mpiKbmxzL01t",
    "outputId": "66aefca9-9dbf-47b4-f1a8-cc155d3ad9cf"
   },
   "outputs": [
    {
     "data": {
      "text/plain": [
       "[DataFrame[userId: string, gender: int],\n",
       " DataFrame[userId: string, level: int],\n",
       " DataFrame[userId: string, total_songs: bigint],\n",
       " DataFrame[userId: string, thumbs_up: bigint],\n",
       " DataFrame[userId: string, thumbs_down: bigint],\n",
       " DataFrame[userId: string, service_time: double]]"
      ]
     },
     "execution_count": 332,
     "metadata": {
      "tags": []
     },
     "output_type": "execute_result"
    }
   ],
   "source": [
    "feature_df"
   ]
  },
  {
   "cell_type": "markdown",
   "metadata": {
    "id": "QJuUZrvEL01u"
   },
   "source": [
    "#### Number of songs played per session"
   ]
  },
  {
   "cell_type": "code",
   "execution_count": null,
   "metadata": {
    "id": "mHgDSi-jL01u"
   },
   "outputs": [],
   "source": [
    "def songs_per_session_func(df):\n",
    "    \"\"\"\n",
    "    creates a dataframe of Number of songs played in each session by the user.\n",
    "    :param df: Spark DataFrame\n",
    "    :return None\n",
    "    \n",
    "    \"\"\"\n",
    "    \n",
    "    songs_per_session_df = df.filter(df.song.isNotNull()).groupby(['userId', 'sessionId']).count()\\\n",
    "                            .groupby(['userId']).count() \\\n",
    "                            .withColumnRenamed('count', 'songs_per_session')\n",
    "    \n",
    "    feature_df.append(songs_per_session_df)\n",
    "    \n",
    "    return None\n",
    "\n",
    "songs_per_session_func(df)"
   ]
  },
  {
   "cell_type": "code",
   "execution_count": null,
   "metadata": {
    "colab": {
     "base_uri": "https://localhost:8080/"
    },
    "id": "db_DLMiJL01v",
    "outputId": "1dcddd7b-af8e-4824-ab39-79b2db94ffb2"
   },
   "outputs": [
    {
     "data": {
      "text/plain": [
       "[DataFrame[userId: string, gender: int],\n",
       " DataFrame[userId: string, level: int],\n",
       " DataFrame[userId: string, total_songs: bigint],\n",
       " DataFrame[userId: string, thumbs_up: bigint],\n",
       " DataFrame[userId: string, thumbs_down: bigint],\n",
       " DataFrame[userId: string, service_time: double],\n",
       " DataFrame[userId: string, songs_per_session: bigint]]"
      ]
     },
     "execution_count": 334,
     "metadata": {
      "tags": []
     },
     "output_type": "execute_result"
    }
   ],
   "source": [
    "feature_df"
   ]
  },
  {
   "cell_type": "markdown",
   "metadata": {
    "id": "UyVktOFsL01v"
   },
   "source": [
    "#### Average Number of friends made by the user"
   ]
  },
  {
   "cell_type": "code",
   "execution_count": null,
   "metadata": {
    "id": "IrrsvEvxL01v"
   },
   "outputs": [],
   "source": [
    "def avg_noof_friedns_func(df):\n",
    "    \"\"\"\n",
    "    creates a dataframe of average number of friends made by the user.\n",
    "    :param df: Spark DataFrame\n",
    "    :return None\n",
    "    \n",
    "    \"\"\"\n",
    "    \n",
    "    avg_no_of_friends_df = df.filter('page == \"Add Friend\"').groupby(['userId']).count()\\\n",
    "                        .groupby(['userId']).agg({'count': 'avg'}).withColumnRenamed('avg(count)', 'avg_no_of_friends')\n",
    "    \n",
    "    feature_df.append(avg_no_of_friends_df)\n",
    "    \n",
    "    return None\n",
    "\n",
    "avg_noof_friedns_func(df)"
   ]
  },
  {
   "cell_type": "code",
   "execution_count": null,
   "metadata": {
    "colab": {
     "base_uri": "https://localhost:8080/"
    },
    "id": "BSYt4lQeL01w",
    "outputId": "de41652b-7aa1-4f15-a513-afe4433846ad"
   },
   "outputs": [
    {
     "data": {
      "text/plain": [
       "[DataFrame[userId: string, gender: int],\n",
       " DataFrame[userId: string, level: int],\n",
       " DataFrame[userId: string, total_songs: bigint],\n",
       " DataFrame[userId: string, thumbs_up: bigint],\n",
       " DataFrame[userId: string, thumbs_down: bigint],\n",
       " DataFrame[userId: string, service_time: double],\n",
       " DataFrame[userId: string, songs_per_session: bigint],\n",
       " DataFrame[userId: string, avg_no_of_friends: double]]"
      ]
     },
     "execution_count": 336,
     "metadata": {
      "tags": []
     },
     "output_type": "execute_result"
    }
   ],
   "source": [
    "feature_df"
   ]
  },
  {
   "cell_type": "markdown",
   "metadata": {
    "id": "mNp7IuUBL01w"
   },
   "source": [
    "#### Number of times downgraded the service by the user in their service"
   ]
  },
  {
   "cell_type": "code",
   "execution_count": null,
   "metadata": {
    "id": "paw4DSRXL01x"
   },
   "outputs": [],
   "source": [
    "def downgrade_count_func(df):\n",
    "    \"\"\"\n",
    "    creates a dataframe of number of time a user downgraded.\n",
    "    :param df: Spark DataFrame\n",
    "    :return None\n",
    "    \n",
    "    \"\"\"\n",
    "    \n",
    "    downgrade_count_df = df.filter(\"page == 'Submit Downgrade'\").select(\"userId\").groupby(\"userId\").count() \\\n",
    "                                .withColumnRenamed(\"count\",\"downgrade_count\")\n",
    "    \n",
    "    feature_df.append(downgrade_count_df)\n",
    "    \n",
    "    return None\n",
    "\n",
    "downgrade_count_func(df)"
   ]
  },
  {
   "cell_type": "code",
   "execution_count": null,
   "metadata": {
    "colab": {
     "base_uri": "https://localhost:8080/"
    },
    "id": "ZQUF0w-bL01x",
    "outputId": "16808309-31a2-4363-e0b5-9f3279695dff"
   },
   "outputs": [
    {
     "data": {
      "text/plain": [
       "[DataFrame[userId: string, gender: int],\n",
       " DataFrame[userId: string, level: int],\n",
       " DataFrame[userId: string, total_songs: bigint],\n",
       " DataFrame[userId: string, thumbs_up: bigint],\n",
       " DataFrame[userId: string, thumbs_down: bigint],\n",
       " DataFrame[userId: string, service_time: double],\n",
       " DataFrame[userId: string, songs_per_session: bigint],\n",
       " DataFrame[userId: string, avg_no_of_friends: double],\n",
       " DataFrame[userId: string, downgrade_count: bigint]]"
      ]
     },
     "execution_count": 338,
     "metadata": {
      "tags": []
     },
     "output_type": "execute_result"
    }
   ],
   "source": [
    "feature_df"
   ]
  },
  {
   "cell_type": "markdown",
   "metadata": {
    "id": "A5zo1SMcL01x"
   },
   "source": [
    "#### Number of songs added to playlist"
   ]
  },
  {
   "cell_type": "code",
   "execution_count": null,
   "metadata": {
    "id": "N_Pj37AHL01y"
   },
   "outputs": [],
   "source": [
    "def songs_added_to_playlist_func(df):\n",
    "    \"\"\"\n",
    "    creates a dataframe of number of times a user added songs to playlist.\n",
    "    :param df: Spark DataFrame\n",
    "    :return None\n",
    "    \n",
    "    \"\"\"\n",
    "    \n",
    "    songs_added_to_playlist_df = df.filter(\"page == 'Add to Playlist'\").select('userID').groupBy('userID').count() \\\n",
    "                            .withColumnRenamed('count', 'songs_added_to_playlist')\n",
    "    \n",
    "    feature_df.append(songs_added_to_playlist_df)\n",
    "    \n",
    "    return None\n",
    "\n",
    "songs_added_to_playlist_func(df)"
   ]
  },
  {
   "cell_type": "code",
   "execution_count": null,
   "metadata": {
    "colab": {
     "base_uri": "https://localhost:8080/"
    },
    "id": "7VozTe8HL01y",
    "outputId": "0a3c51d7-7e55-40e4-c654-d3a8b00671c9"
   },
   "outputs": [
    {
     "data": {
      "text/plain": [
       "[DataFrame[userId: string, gender: int],\n",
       " DataFrame[userId: string, level: int],\n",
       " DataFrame[userId: string, total_songs: bigint],\n",
       " DataFrame[userId: string, thumbs_up: bigint],\n",
       " DataFrame[userId: string, thumbs_down: bigint],\n",
       " DataFrame[userId: string, service_time: double],\n",
       " DataFrame[userId: string, songs_per_session: bigint],\n",
       " DataFrame[userId: string, avg_no_of_friends: double],\n",
       " DataFrame[userId: string, downgrade_count: bigint],\n",
       " DataFrame[userID: string, songs_added_to_playlist: bigint]]"
      ]
     },
     "execution_count": 340,
     "metadata": {
      "tags": []
     },
     "output_type": "execute_result"
    }
   ],
   "source": [
    "feature_df"
   ]
  },
  {
   "cell_type": "code",
   "execution_count": null,
   "metadata": {
    "id": "9rDpZdJBL01y"
   },
   "outputs": [],
   "source": [
    "# Let's add downgraded & churn_users(target) column too our features_df\n",
    "\n",
    "downgrade_df = df.select('userId', 'downgraded').distinct()\n",
    "churn_df = df.select('userId', 'churn_users').distinct()\n",
    "\n",
    "feature_df.append(downgrade_df)\n",
    "feature_df.append(churn_df)"
   ]
  },
  {
   "cell_type": "code",
   "execution_count": null,
   "metadata": {
    "colab": {
     "base_uri": "https://localhost:8080/"
    },
    "id": "qj4qSsCVL01z",
    "outputId": "2fcced71-fbe5-4615-d72b-7480506082f7"
   },
   "outputs": [
    {
     "data": {
      "text/plain": [
       "12"
      ]
     },
     "execution_count": 342,
     "metadata": {
      "tags": []
     },
     "output_type": "execute_result"
    }
   ],
   "source": [
    "len(feature_df) #length of the features we have including target"
   ]
  },
  {
   "cell_type": "code",
   "execution_count": null,
   "metadata": {
    "id": "w423nw0FL01z"
   },
   "outputs": [],
   "source": [
    "#feature_df[0].join(feature_df[3], on=['userId'], how='left').show()"
   ]
  },
  {
   "cell_type": "markdown",
   "metadata": {
    "id": "Gbfti6URL01z"
   },
   "source": [
    "### Let's merge all df's we created into final df"
   ]
  },
  {
   "cell_type": "code",
   "execution_count": null,
   "metadata": {
    "colab": {
     "base_uri": "https://localhost:8080/"
    },
    "id": "8DDRXfZtL01z",
    "outputId": "48013186-ef00-4782-8534-1b21dc73f60d"
   },
   "outputs": [
    {
     "name": "stdout",
     "output_type": "stream",
     "text": [
      "+------+------+-----+-----------+---------+-----------+------------+-----------------+-----------------+---------------+-----------------------+----------+-----------+\n",
      "|userId|gender|level|total_songs|thumbs_up|thumbs_down|service_time|songs_per_session|avg_no_of_friends|downgrade_count|songs_added_to_playlist|downgraded|churn_users|\n",
      "+------+------+-----+-----------+---------+-----------+------------+-----------------+-----------------+---------------+-----------------------+----------+-----------+\n",
      "|100010|     0|    0|        275|       17|          5|   4807612.0|                7|              4.0|              0|                      7|         0|          0|\n",
      "|200002|     1|    0|        387|       21|          6|   6054448.0|                6|              4.0|              0|                      8|         0|          0|\n",
      "|   125|     1|    0|          8|        0|          0|   6161779.0|                1|              0.0|              0|                      0|         0|          1|\n",
      "|   124|     0|    1|       4079|      171|         41| 1.1366431E7|               28|             74.0|              0|                    118|         0|          0|\n",
      "|    51|     1|    1|       2111|      100|         21|   1680985.0|               10|             28.0|              0|                     52|         0|          1|\n",
      "+------+------+-----+-----------+---------+-----------+------------+-----------------+-----------------+---------------+-----------------------+----------+-----------+\n",
      "only showing top 5 rows\n",
      "\n"
     ]
    }
   ],
   "source": [
    "final_df = feature_df[0] #putting first df to make new dataframe variable\n",
    "\n",
    "def merging_dataframes(final_df, remaining_df):\n",
    "    '''  \n",
    "    Merges all our dataframes into a final dataframe.\n",
    "    \n",
    "    :param first_df:  this is our final dataframe which will include all df's\n",
    "    :param remaining_df:  these are our remaining df's which we created, will merge with final\n",
    "    :return :         Returns a merged dataframe.\n",
    "    \n",
    "    '''\n",
    "    \n",
    "    merged_df = final_df.join(remaining_df, on=['userId'], how='left') # merges the df's\n",
    "    \n",
    "    return merged_df\n",
    "\n",
    "for dfs in feature_df[1:]:\n",
    "    final_df = merging_dataframes(final_df, dfs)\n",
    "\n",
    "# fill nans if any\n",
    "final_df = final_df.na.fill(0)\n",
    "final_df.show(5)"
   ]
  },
  {
   "cell_type": "code",
   "execution_count": null,
   "metadata": {
    "colab": {
     "base_uri": "https://localhost:8080/"
    },
    "id": "n3eG4moqr-g7",
    "outputId": "51f694dd-9279-426b-83c5-940fe91ddce1"
   },
   "outputs": [
    {
     "data": {
      "text/plain": [
       "274"
      ]
     },
     "execution_count": 345,
     "metadata": {
      "tags": []
     },
     "output_type": "execute_result"
    }
   ],
   "source": [
    "final_df.count()"
   ]
  },
  {
   "cell_type": "code",
   "execution_count": null,
   "metadata": {
    "colab": {
     "base_uri": "https://localhost:8080/"
    },
    "id": "LoNO1WnlL010",
    "outputId": "26e5a3a9-d0d6-4a09-a1f4-d4bcaae27c60"
   },
   "outputs": [
    {
     "name": "stdout",
     "output_type": "stream",
     "text": [
      "root\n",
      " |-- userId: string (nullable = true)\n",
      " |-- gender: integer (nullable = true)\n",
      " |-- level: integer (nullable = true)\n",
      " |-- total_songs: long (nullable = true)\n",
      " |-- thumbs_up: long (nullable = true)\n",
      " |-- thumbs_down: long (nullable = true)\n",
      " |-- service_time: double (nullable = false)\n",
      " |-- songs_per_session: long (nullable = true)\n",
      " |-- avg_no_of_friends: double (nullable = false)\n",
      " |-- downgrade_count: long (nullable = true)\n",
      " |-- songs_added_to_playlist: long (nullable = true)\n",
      " |-- downgraded: integer (nullable = true)\n",
      " |-- churn_users: integer (nullable = true)\n",
      "\n"
     ]
    }
   ],
   "source": [
    "final_df.printSchema()  #schema of the final data"
   ]
  },
  {
   "cell_type": "markdown",
   "metadata": {
    "id": "fw_DVgVJL011"
   },
   "source": [
    "## Prepare for Modeling"
   ]
  },
  {
   "cell_type": "markdown",
   "metadata": {
    "id": "kFQyFgOJL010"
   },
   "source": [
    "### Model Evaluation and Validation\n",
    "\n",
    "We are all set to make our model now & will procede with further process.\n"
   ]
  },
  {
   "cell_type": "code",
   "execution_count": null,
   "metadata": {
    "colab": {
     "base_uri": "https://localhost:8080/"
    },
    "id": "YMYsjJGEL011",
    "outputId": "3394c9c9-0854-466b-a1a1-63f822e15693"
   },
   "outputs": [
    {
     "name": "stdout",
     "output_type": "stream",
     "text": [
      "['userId', 'gender', 'level', 'total_songs', 'thumbs_up', 'thumbs_down', 'service_time', 'songs_per_session', 'avg_no_of_friends', 'downgrade_count', 'songs_added_to_playlist', 'downgraded', 'churn_users']"
     ]
    }
   ],
   "source": [
    "print(final_df.columns,end='')"
   ]
  },
  {
   "cell_type": "code",
   "execution_count": null,
   "metadata": {
    "id": "YXBg65y7L012"
   },
   "outputs": [],
   "source": [
    "# we have two columns which type is string so we are casting it to interger type \n",
    "final_df = final_df.withColumn(\"userId\", final_df.userId.cast(IntegerType()))\n",
    "#final_df = final_df.withColumn(\"hours\", final_df.hours.cast(IntegerType()))"
   ]
  },
  {
   "cell_type": "code",
   "execution_count": null,
   "metadata": {
    "id": "ijr-nysxL012"
   },
   "outputs": [],
   "source": [
    "# Create VectorAssembler and StandardScaler objects\n",
    "# numeric features transform separately from binary\n",
    "num_vector = VectorAssembler(inputCols=['total_songs'\n",
    "                                        , 'thumbs_up', 'thumbs_down', 'service_time', 'songs_per_session'\n",
    "                                        , 'avg_no_of_friends', 'downgrade_count', 'songs_added_to_playlist'\n",
    "                                        , 'downgraded'], \n",
    "                             outputCol='num_vector_assem')\n",
    "\n",
    "num_scaler = StandardScaler(inputCol='num_vector_assem', outputCol ='num_vector_sc', withStd=True, withMean=True)\n",
    "\n",
    "final_vector = VectorAssembler(inputCols=['level', 'gender']+['num_vector_sc'], \n",
    "                               outputCol='features_vector')"
   ]
  },
  {
   "cell_type": "code",
   "execution_count": null,
   "metadata": {
    "id": "hCCMR7UqL012"
   },
   "outputs": [],
   "source": [
    "# Transform data\n",
    "data = num_vector.transform(final_df)\n",
    "\n",
    "feature_standardize = num_scaler.fit(data)\n",
    "data = feature_standardize.transform(data)\n",
    "\n",
    "data = final_vector.transform(data)"
   ]
  },
  {
   "cell_type": "code",
   "execution_count": null,
   "metadata": {
    "colab": {
     "base_uri": "https://localhost:8080/"
    },
    "id": "IeI1MF1YL013",
    "outputId": "8b6fb980-e506-4196-b636-caa74670a8c0"
   },
   "outputs": [
    {
     "name": "stdout",
     "output_type": "stream",
     "text": [
      "+-----------+--------------------+\n",
      "|churn_users|     features_vector|\n",
      "+-----------+--------------------+\n",
      "|          0|[0.0,0.0,-0.70865...|\n",
      "|          0|[0.0,1.0,-0.61796...|\n",
      "|          1|[0.0,1.0,-0.92485...|\n",
      "|          0|[1.0,0.0,2.371619...|\n",
      "|          1|[1.0,1.0,0.778039...|\n",
      "+-----------+--------------------+\n",
      "only showing top 5 rows\n",
      "\n"
     ]
    }
   ],
   "source": [
    "#final data\n",
    "data = data.select(data.churn_users, data.features_vector)\n",
    "data.show(5)"
   ]
  },
  {
   "cell_type": "code",
   "execution_count": null,
   "metadata": {
    "id": "OExIZRbNL013"
   },
   "outputs": [],
   "source": [
    "# Split Test and Train set\n",
    "train, test = data.randomSplit([0.8, 0.2], seed=42)"
   ]
  },
  {
   "cell_type": "markdown",
   "metadata": {
    "id": "eY-rWjBtL014"
   },
   "source": [
    "### Baseline Model"
   ]
  },
  {
   "cell_type": "code",
   "execution_count": null,
   "metadata": {
    "colab": {
     "base_uri": "https://localhost:8080/"
    },
    "id": "gEQT_ZBlL014",
    "outputId": "b1012913-94c0-426f-f109-3043189f603d"
   },
   "outputs": [
    {
     "name": "stdout",
     "output_type": "stream",
     "text": [
      "+-----------+--------------------+----------+\n",
      "|churn_users|     features_vector|prediction|\n",
      "+-----------+--------------------+----------+\n",
      "|          0|[0.0,1.0,-0.61796...|       0.0|\n",
      "|          0|[1.0,0.0,2.371619...|       0.0|\n",
      "|          0|[1.0,1.0,0.618519...|       0.0|\n",
      "|          1|[1.0,1.0,-0.75804...|       0.0|\n",
      "|          0|[0.0,1.0,-0.88841...|       0.0|\n",
      "+-----------+--------------------+----------+\n",
      "only showing top 5 rows\n",
      "\n"
     ]
    }
   ],
   "source": [
    "#baseline model\n",
    "baseline = test.withColumn('prediction', lit(0.0))\n",
    "baseline.show(5)"
   ]
  },
  {
   "cell_type": "markdown",
   "metadata": {},
   "source": [
    "## Evaluating Models"
   ]
  },
  {
   "cell_type": "code",
   "execution_count": null,
   "metadata": {
    "id": "ZbQtNVPLL017"
   },
   "outputs": [],
   "source": [
    "def evaluate_model(model_result, model_name,start,end):\n",
    "    \"\"\"\n",
    "    This function performs the evaluation of model.\n",
    "    Task such as Predicting, finding accuracy, f1 score & total training time.\n",
    "    :param model_lr_test: model.\n",
    "    :param model_name: name of the model\n",
    "    :param start: start time of the training\n",
    "    :param end: end time of the training\n",
    "    :return: returns the result of the model\n",
    "    \"\"\"\n",
    "\n",
    "    print(\"\\n\")\n",
    "    print(\"\\n\")\n",
    "    print(\"Predicting Model...\")\n",
    "\n",
    "    evaluator = MulticlassClassificationEvaluator(predictionCol='prediction')  # Predicting model\n",
    "    evaluator.setLabelCol('churn_users') #setting label column\n",
    "    \n",
    "    accuracy = evaluator.evaluate(model_result, {evaluator.metricName : 'accuracy'}) #getting accuracy\n",
    "    f1 = evaluator.evaluate(model_result, {evaluator.metricName : 'f1'}) #getting f1 score\n",
    "    time = (end - start)/60  # time of our model\n",
    "    \n",
    "    result = [model_name, round(accuracy,3), round(f1,3),round(time,1)] # saving the result\n",
    "\n",
    "    return result"
   ]
  },
  {
   "cell_type": "markdown",
   "metadata": {},
   "source": [
    "### Baseline model result"
   ]
  },
  {
   "cell_type": "code",
   "execution_count": null,
   "metadata": {
    "colab": {
     "base_uri": "https://localhost:8080/"
    },
    "id": "QGxwXx_lL014",
    "outputId": "9ede66ae-0f1e-4ebd-d4a0-2f1b0b84678e"
   },
   "outputs": [
    {
     "name": "stdout",
     "output_type": "stream",
     "text": [
      "\n",
      "\n",
      "\n",
      "\n",
      "Predicting Model...\n",
      "Baseline performance metrics:\n",
      "Accuracy: 0.698\n",
      "F-1 Score: 0.573\n",
      "\n",
      "\n"
     ]
    }
   ],
   "source": [
    "#print baseline model\n",
    "baseline_result = evaluate_model(baseline, 'Baseline', 0, 0)\n",
    "print('{} performance metrics:'.format(baseline_result[0])) \n",
    "print('Accuracy: {}'.format(baseline_result[1]))            \n",
    "print('F-1 Score: {}'.format(baseline_result[2]))\n",
    "print(\"\\n\")"
   ]
  },
  {
   "cell_type": "markdown",
   "metadata": {},
   "source": [
    "### Logistic Regression Model"
   ]
  },
  {
   "cell_type": "code",
   "execution_count": null,
   "metadata": {
    "id": "61vX_B_5L015"
   },
   "outputs": [],
   "source": [
    "def build_logistic_regression_model():\n",
    "    \"\"\"\n",
    "    This function performs building a logistic regression model, First it instantiate the model \n",
    "    second making the pipeline, setting the param grid, and finally putting all together in cross validator\n",
    "    \n",
    "    :return: Returns cv to fit the model\n",
    "    \"\"\"\n",
    "    \n",
    "    lr = LogisticRegression(maxIter=10, labelCol='churn_users', featuresCol='features_vector') #lr instantiate\n",
    "    \n",
    "    pipeline = Pipeline(stages=[lr])\n",
    "    \n",
    "    # this is parameters grid which we pass to a model.\n",
    "    lr_paramGrid = (ParamGridBuilder()\n",
    "                .addGrid(lr.regParam, [0.1, 0.01, 0.001])\n",
    "                .build())\n",
    "    \n",
    "    evaluator = MulticlassClassificationEvaluator(labelCol='churn_users')\n",
    "    \n",
    "    #an Estimator to produce a CrossValidatorModel\n",
    "    cv = CrossValidator(estimator = pipeline, estimatorParamMaps = lr_paramGrid, evaluator=evaluator)\n",
    "\n",
    "    return cv"
   ]
  },
  {
   "cell_type": "markdown",
   "metadata": {
    "id": "drXJgLJtL015"
   },
   "source": [
    "### Random Forest Model"
   ]
  },
  {
   "cell_type": "code",
   "execution_count": null,
   "metadata": {
    "id": "MtLDL65-L016"
   },
   "outputs": [],
   "source": [
    "def build_random_forest_model():\n",
    "    \"\"\"\n",
    "    This function performs building a random forest model, First it instantiate the model \n",
    "    second making the pipeline, setting the param grid, and finally putting all together in cross validator\n",
    "    \n",
    "    :return: Returns cv to fit the model\n",
    "    \"\"\"\n",
    "    \n",
    "    numFolds = 3  # no of folds\n",
    "    rf = RandomForestClassifier(labelCol='churn_users', featuresCol='features_vector', seed = 42) #rf classifier\n",
    "    evaluator = MulticlassClassificationEvaluator(labelCol='churn_users') #multiclass evaluator \n",
    "\n",
    "    pipeline = Pipeline(stages=[rf])\n",
    "    \n",
    "    # this is parameters grid which we pass to a model.\n",
    "    rf_paramGrid = (ParamGridBuilder()\n",
    "                         .addGrid(rf.numTrees, [10,20])\n",
    "                         .addGrid(rf.maxDepth, [10,20])\n",
    "                         .build())\n",
    "    \n",
    "    # an Estimator to produce a CrossValidatorModel\n",
    "    cv = CrossValidator(\n",
    "                        estimator=pipeline\n",
    "                        ,estimatorParamMaps=rf_paramGrid\n",
    "                        ,evaluator=evaluator\n",
    "                        ,numFolds=numFolds)\n",
    "\n",
    "    return cv"
   ]
  },
  {
   "cell_type": "markdown",
   "metadata": {
    "id": "i4hz15_9L016"
   },
   "source": [
    "### Gradient Boosting Model"
   ]
  },
  {
   "cell_type": "code",
   "execution_count": null,
   "metadata": {
    "id": "C1noTiO4L016"
   },
   "outputs": [],
   "source": [
    "def build_gradient_boosting_model():\n",
    "    \"\"\"\n",
    "    This function performs building a gradient boosting model, First it instantiate the model \n",
    "    second making the pipeline, setting the param grid, and finally putting all together in cross validator\n",
    "    \n",
    "    :return: Returns cv to fit the model\n",
    "    \"\"\"\n",
    "    \n",
    "    numFolds = 3    # no of folds\n",
    "    gbt = GBTClassifier(labelCol='churn_users', featuresCol='features_vector', seed = 42) # gb classifier\n",
    "    evaluator = MulticlassClassificationEvaluator(labelCol='churn_users')\n",
    "\n",
    "    pipeline = Pipeline(stages=[gbt])  # pipeline which takes the stages\n",
    "    \n",
    "    # this is parameters grid which we pass to a model.\n",
    "    gbt_paramGrid = (ParamGridBuilder()    \n",
    "                         .addGrid(gbt.maxIter, [10,20])\n",
    "                         .addGrid(gbt.maxDepth, [10,20])\n",
    "                         .build())\n",
    "    \n",
    "    # an Estimator to produce a CrossValidatorModel\n",
    "    cv = CrossValidator(\n",
    "                    estimator=pipeline,\n",
    "                    estimatorParamMaps=gbt_paramGrid,\n",
    "                    evaluator=evaluator,\n",
    "                    numFolds=numFolds)\n",
    "\n",
    "    return cv"
   ]
  },
  {
   "cell_type": "markdown",
   "metadata": {},
   "source": [
    "### Main function which drives all models do prediction, & display result"
   ]
  },
  {
   "cell_type": "code",
   "execution_count": null,
   "metadata": {
    "id": "oQyjnPK-L017"
   },
   "outputs": [],
   "source": [
    "def main(model):\n",
    "    \"\"\"\n",
    "    This is main function which takes responsibility to build,train,predict & diplay result of the every model\n",
    "    :param model: this takes the name of the model.\n",
    "    :return: it return a result of the each model & if if pass wrong model name then returns a instruction.\n",
    "    \n",
    "    \"\"\"\n",
    "    \n",
    "    \n",
    "    if model == 'logistic_regression':\n",
    "        print(\"\\n\")\n",
    "        print('Building logistic_regression model')\n",
    "        model_lr = build_logistic_regression_model()\n",
    "        print(\"\\n\")\n",
    "        print('Training model...')\n",
    "        lr_start = time.time()\n",
    "        model_fit = model_lr.fit(train)\n",
    "        lr_end = time.time()\n",
    "        print(\"\\n\")\n",
    "        print('Training completed')\n",
    "        print(\"\\n\")\n",
    "        print('Evaluating model...')\n",
    "        model_lr_preds = model_fit.transform(test) \n",
    "        model_result = evaluate_model(model_lr_preds, 'Logistic Regression',lr_start, lr_end)\n",
    "        print('Evaluation completed')\n",
    "        print(\"\\n\")\n",
    "        print('Displaying result')\n",
    "        display_result(model_result, model_fit)\n",
    "        print(\"\\n\")\n",
    "        print(\"Logistic Regression model completed\")\n",
    "        \n",
    "        return model_result\n",
    "            \n",
    "    elif model == 'random_forest':\n",
    "        print(\"\\n\")\n",
    "        print(\"\\n\")\n",
    "        print('Building random_forest model')\n",
    "        model_rf = build_random_forest_model()\n",
    "        print(\"\\n\")\n",
    "        print('Training model...')\n",
    "        rf_start = time.time()\n",
    "        model_fit = model_rf.fit(train)\n",
    "        rf_end = time.time()\n",
    "        print(\"\\n\")\n",
    "        print('Training completed')\n",
    "        print(\"\\n\")\n",
    "        print('Evaluating model...')\n",
    "        model_rf_preds = model_fit.transform(test) \n",
    "        model_result = evaluate_model(model_rf_preds, 'Random Forest',rf_start, rf_end)\n",
    "        print('Evaluation completed')\n",
    "        print(\"\\n\")\n",
    "        print('Displaying result')\n",
    "        display_result(model_result, model_fit)\n",
    "        print(\"\\n\")\n",
    "        print(\"Random Forest model completed\")\n",
    "            \n",
    "        return model_result\n",
    "            \n",
    "            \n",
    "    elif model == 'gradient_boosting':\n",
    "        print(\"\\n\")\n",
    "        print(\"\\n\")\n",
    "        print('Building gradient_boosting model')\n",
    "        model_gb = build_gradient_boosting_model()\n",
    "        print(\"\\n\")\n",
    "        print('Training model...')\n",
    "        gb_start = time.time()\n",
    "        model_fit = model_gb.fit(train)\n",
    "        gb_end = time.time()\n",
    "        print(\"\\n\")\n",
    "        print('Training completed')\n",
    "        print(\"\\n\")\n",
    "        print('Evaluating model...')\n",
    "        model_gb_preds = model_fit.transform(test) \n",
    "        model_result = evaluate_model(model_gb_preds, 'gradient_boosting',gb_start, gb_end)\n",
    "        print('Evaluation completed')\n",
    "        print(\"\\n\")\n",
    "        print('Displaying result')\n",
    "        display_result(model_result, model_fit)\n",
    "        print(\"\\n\")\n",
    "        print(\"Gradient Boosting model completed\")\n",
    "            \n",
    "        return model_result\n",
    "    else:\n",
    "        return \"Please choose an appropriate model\"\n",
    "    "
   ]
  },
  {
   "cell_type": "markdown",
   "metadata": {},
   "source": [
    "## Display Result"
   ]
  },
  {
   "cell_type": "code",
   "execution_count": null,
   "metadata": {
    "id": "1aI-H-TvL018"
   },
   "outputs": [],
   "source": [
    "def display_result(model_result, model_fit):\n",
    "    \"\"\"\n",
    "        This function is responsible for displaying the result of the model.\n",
    "        :param model_result: this param has predicted model\n",
    "        :param model_fit: this param has trained model\n",
    "    \"\"\"\n",
    "    print(\"\\n\")\n",
    "    print('{} performance metrics:'.format(model_result[0])) \n",
    "    print(\"\\n\")\n",
    "    print('Accuracy: {}'.format(model_result[1]))            \n",
    "  \n",
    "    print('F-1 Score: {}'.format(model_result[2]))\n",
    "  \n",
    "    print('Total training time: {} minutes'.format(model_result[3]))\n",
    "  \n",
    "    best_param = list(model_fit.getEstimatorParamMaps()[np.argmax(model_fit.avgMetrics)].values())\n",
    "    print('Best regression parameter is {}'.format(best_param[0]))\n",
    "    \n",
    "    return None"
   ]
  },
  {
   "cell_type": "code",
   "execution_count": null,
   "metadata": {
    "id": "7tqz3BbWL018"
   },
   "outputs": [],
   "source": [
    "our_models = ['logistic_regression','random_forest','gradient_boosting']  #list of our models."
   ]
  },
  {
   "cell_type": "code",
   "execution_count": null,
   "metadata": {
    "colab": {
     "background_save": true,
     "base_uri": "https://localhost:8080/"
    },
    "id": "ix8mvIZuL02G",
    "outputId": "2c6cfcff-3eca-42f8-9a9d-73cf0f8218c3"
   },
   "outputs": [
    {
     "name": "stdout",
     "output_type": "stream",
     "text": [
      "\n",
      "\n",
      "Building logistic_regression model\n",
      "\n",
      "\n",
      "Training model...\n",
      "\n",
      "\n",
      "Training completed\n",
      "\n",
      "\n",
      "Evaluating model...\n",
      "\n",
      "\n",
      "\n",
      "\n",
      "Predicting Model...\n",
      "Evaluation completed\n",
      "\n",
      "\n",
      "Displaying result\n",
      "\n",
      "\n",
      "Logistic Regression performance metrics:\n",
      "\n",
      "\n",
      "Accuracy: 0.744\n",
      "F-1 Score: 0.67\n",
      "Total training time: 8.0 minutes\n",
      "Total training time: 8.0 minutes\n",
      "Best regression parameter is 0.01\n",
      "\n",
      "\n",
      "Logistic Regression model completed\n",
      "\n",
      "\n",
      "\n",
      "\n",
      "Building random_forest model\n",
      "\n",
      "\n",
      "Training model...\n",
      "\n",
      "\n",
      "Training completed\n",
      "\n",
      "\n",
      "Evaluating model...\n",
      "\n",
      "\n",
      "\n",
      "\n",
      "Predicting Model...\n",
      "Evaluation completed\n",
      "\n",
      "\n",
      "Displaying result\n",
      "\n",
      "\n",
      "Random Forest performance metrics:\n",
      "\n",
      "\n",
      "Accuracy: 0.837\n",
      "F-1 Score: 0.824\n",
      "Total training time: 13.2 minutes\n",
      "Total training time: 13.2 minutes\n",
      "Best regression parameter is 20\n",
      "\n",
      "\n",
      "Random Forest model completed\n",
      "\n",
      "\n",
      "\n",
      "\n",
      "Building gradient_boosting model\n",
      "\n",
      "\n",
      "Training model...\n",
      "\n",
      "\n",
      "Training completed\n",
      "\n",
      "\n",
      "Evaluating model...\n",
      "\n",
      "\n",
      "\n",
      "\n",
      "Predicting Model...\n",
      "Evaluation completed\n",
      "\n",
      "\n",
      "Displaying result\n",
      "\n",
      "\n",
      "gradient_boosting performance metrics:\n",
      "\n",
      "\n",
      "Accuracy: 0.814\n",
      "F-1 Score: 0.814\n",
      "Total training time: 73.0 minutes\n",
      "Total training time: 73.0 minutes\n",
      "Best regression parameter is 10\n",
      "\n",
      "\n",
      "Gradient Boosting model completed\n"
     ]
    }
   ],
   "source": [
    "final_model_result = [main(model) for model in our_models]  # runs each model & saves the result in variable."
   ]
  },
  {
   "cell_type": "markdown",
   "metadata": {
    "id": "q0iNsj4jL02H"
   },
   "source": [
    "## Justification & Conclusion"
   ]
  },
  {
   "cell_type": "markdown",
   "metadata": {
    "id": "DVxkHXpkL02H"
   },
   "source": [
    "As we can see the result of the each model, it look lil promising to us about good prediction. let's discuss\n",
    "each model separately starting with baseline model.\n",
    "\n",
    "* Baseline Model: \n",
    "\n",
    "We created a prediction column of zeros which will help us to get an intuation anbout our target label. We can interpret things like what's our accuracy is going to be, or f1 score, we got a confidence about our approach that we can move further with the rest of the models.\n",
    "\n",
    "* Logistic Regression: \n",
    "\n",
    "why we choose this as the first algorithm for our data? first of all we have to predict two classes 0's & 1's and we know things about logistic regression is that it is appropriate regression analysis to conduct when dependent variable is binary & it also is one step ahead and fitting the line values to the sigmoid curve. it was good start that we moved with this algorithm & saw it is predicting Accuracy: 0.744, F-1 Score: 0.67 which is above ok & indicated that we should try with some more advance algorithm.\n",
    "\n",
    "* Random Forest:\n",
    "\n",
    "Again why we choose that? for each & every algorithm we have to look into our data to choose a particular algorithm if we understood the data & target well then can make right choice for an algorithm. Talking about random forest, it builds multiple decision trees and merges them together to get a more accurate and stable prediction. but why to make multiple trees first in place? actully it tries to understand the dependecies in the data & according to it builds trees, it adds additional randomness to the model, while growing the trees. So we hoped that it will give the better result & that happened it gave us Accuracy: 0.837, F-1 Score: 0.824 & Total training time: 13.2 minutes which is arguingly good result. we are kind of satisfied with the result but also there is a room to increase the result. so, we tried one more algorithm let's discuss that.\n",
    "\n",
    "* Gradient Boosting:\n",
    "\n",
    "The reason for gradient boosting is that it is one of the most powerful techniques for building predictive models, & how's that possible? by otimizing the loss function, minimizing the overall prediction error & also many more steps goes behind that in gradient boosting, it improves the performance by reducing the overfitting which actually showed that it gave us the Accuracy: 0.814, F-1 Score: 0.814 Total training time: 73.0 minutes Best regression parameter is 10, what we observe fromt this is our accuracy reduced by .2% which is small but it did, & when we look at f1 score then it is almost similar to the accuracy which shows that it is correctly predicting the target label as per our f1 score. but negative side is that it is taking lot of time for training and predicting.\n",
    "\n",
    "       "
   ]
  },
  {
   "cell_type": "markdown",
   "metadata": {
    "id": "J_64J8h0L02H"
   },
   "source": [
    "* #### Conclusion"
   ]
  },
  {
   "cell_type": "markdown",
   "metadata": {
    "id": "jkK4--lmL02I"
   },
   "source": [
    "My conclusion would be there are lot of things where we can go futher & can improve performance, Like we can explore more on the feature engineering part by creating more features such as pages, it has so manny columns that we did not consider it to be a feature, we can take some more features from that. for eg there is home page which user's visit not more like next song but user usually visit that page so it can be a lil contribution in our list, likewise there are pages like settings, help etc we can consider them as well if they are impacting our performance, we ploted a graph of pages which show's user's interaction we can take help of that.\n",
    "\n",
    "Another area we can improve by having more informatio regarding music or songs we don't have much of data to explore on that side. From the log data we can make user of time & songs and create a feature out of it. So these are things from feature engineering we could improve.\n",
    "\n",
    "We can go lil deep into how we can impute values by taking care of each of the columns & according to it how we can put correct values. we can keep track of null values of each column studying them after that putting values into that.\n",
    "\n",
    "more ways can be explore at modeling level, by doing some more hyper parameter tuning or trying out with some other algorithm, or by changes at the scaling we can play lil bit in that area as well. So, these are my thought where we can improve our project. I found this project so interesting & fascinating cause I found some challenges, enjoyed creating new features & learned a lot new things with this."
   ]
  },
  {
   "cell_type": "code",
   "execution_count": null,
   "metadata": {
    "id": "I7auFeZ3L02I"
   },
   "outputs": [],
   "source": []
  }
 ],
 "metadata": {
  "colab": {
   "collapsed_sections": [],
   "name": "Sparkify_Final_2.ipynb",
   "provenance": []
  },
  "kernelspec": {
   "display_name": "Python 3",
   "language": "python",
   "name": "python3"
  },
  "language_info": {
   "codemirror_mode": {
    "name": "ipython",
    "version": 3
   },
   "file_extension": ".py",
   "mimetype": "text/x-python",
   "name": "python",
   "nbconvert_exporter": "python",
   "pygments_lexer": "ipython3",
   "version": "3.8.5"
  }
 },
 "nbformat": 4,
 "nbformat_minor": 1
}
